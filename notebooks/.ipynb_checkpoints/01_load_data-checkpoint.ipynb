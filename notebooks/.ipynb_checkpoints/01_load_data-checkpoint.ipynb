{
 "cells": [
  {
   "cell_type": "code",
   "execution_count": null,
   "id": "50268854",
   "metadata": {},
   "outputs": [],
   "source": [
    "import sys\n",
    "import pandas as pd\n",
    "import numpy as np\n",
    "from glob import glob\n",
    "import os\n",
    "from types import SimpleNamespace\n",
    "\n",
    "REPO_DIR = os.path.abspath(\"..\")\n",
    "sys.path.append(REPO_DIR)\n",
    "\n",
    "import utils.data_utils as data_utils\n",
    "import utils.PATHS as PATHS"
   ]
  },
  {
   "cell_type": "code",
   "execution_count": null,
   "id": "224bd864",
   "metadata": {},
   "outputs": [],
   "source": [
    "LAB_FIELDS = SimpleNamespace(**data_utils.LAB_FIELDS)\n",
    "DIAG_FIELDS = SimpleNamespace(**data_utils.DIAG_FIELDS)"
   ]
  },
  {
   "cell_type": "markdown",
   "id": "00711094",
   "metadata": {},
   "source": [
    "## Load lab data"
   ]
  },
  {
   "cell_type": "code",
   "execution_count": null,
   "id": "f1fce4ad",
   "metadata": {},
   "outputs": [],
   "source": [
    "def concat_csvs(data_dir, curr_df = pd.DataFrame(), usecols=[]):\n",
    "    files = glob(os.path.join(data_dir, \"*.csv\"))\n",
    "    df_list = []\n",
    "    df_list = [pd.read_csv(file, usecols=usecols) for file in files]\n",
    "    df_all  = pd.concat([curr_df, *df_list], ignore_index=True)\n",
    "    print(df_all.shape)\n",
    "    return df_all"
   ]
  },
  {
   "cell_type": "code",
   "execution_count": null,
   "id": "3ca3b506",
   "metadata": {},
   "outputs": [],
   "source": [
    "'''def aggregate_csvs(input_dir, curr_df = pd.DataFrame(), usecols=None):\n",
    "    files = glob(input_dir)\n",
    "    df_list = []\n",
    "    if usecols:\n",
    "        df_list = [pd.read_csv(file,engine='python',error_bad_lines=False, usecols=usecols) for file in files]\n",
    "    else: \n",
    "        df_list = [pd.read_csv(file) for file in files]\n",
    "    df_all  = pd.concat([curr_df, *df_list], ignore_index=True)\n",
    "    return df_all'''"
   ]
  },
  {
   "cell_type": "code",
   "execution_count": null,
   "id": "9d0a76da",
   "metadata": {},
   "outputs": [],
   "source": [
    "lab_usecols = list(data_utils.LAB_FIELDS.values())\n",
    "lab_data_dir = PATHS.DATA_DIR\n",
    "lab_df = pd.DataFrame()\n"
   ]
  },
  {
   "cell_type": "code",
   "execution_count": null,
   "id": "91c33bbd",
   "metadata": {},
   "outputs": [],
   "source": [
    "## Cyclically swap fresh csvs into data_dir and run this as many times required\n",
    "lab_df = concat_csvs(lab_data_dir, lab_df, lab_usecols) #(8902198, 8)(17460181, 8)(25455172, 8)(29939622, 8)(37719893, 8)(46077233, 8)(51939302, 8)"
   ]
  },
  {
   "cell_type": "code",
   "execution_count": null,
   "id": "0a8bcfc7",
   "metadata": {},
   "outputs": [],
   "source": [
    "labs_df.shape"
   ]
  },
  {
   "cell_type": "code",
   "execution_count": null,
   "id": "ca5a9ec3",
   "metadata": {},
   "outputs": [],
   "source": [
    "lab_df.to_csv(os.path.join(PATHS.OUTPUT_DIR, \"labs_master.csv\"))\n",
    "# lab_df.to_pickle(\"labs_df.pkl\")"
   ]
  },
  {
   "cell_type": "markdown",
   "id": "ea31cc03",
   "metadata": {},
   "source": [
    "## Load diag data"
   ]
  },
  {
   "cell_type": "code",
   "execution_count": null,
   "id": "e4d78f46",
   "metadata": {},
   "outputs": [],
   "source": [
    "## Repeat steps above"
   ]
  },
  {
   "cell_type": "code",
   "execution_count": null,
   "id": "b515146e",
   "metadata": {},
   "outputs": [],
   "source": [
    "def concat_csvs(data_dir, curr_df = pd.DataFrame(), usecols=[]):\n",
    "    files = glob(os.path.join(data_dir, \"*.csv\"))\n",
    "    df_list = []\n",
    "    df_list = [pd.read_csv(file, usecols=usecols) for file in files]\n",
    "    df_all  = pd.concat([curr_df, *df_list], ignore_index=True)\n",
    "    print(df_all.shape)\n",
    "    return df_all"
   ]
  },
  {
   "cell_type": "code",
   "execution_count": null,
   "id": "dc7aabd4",
   "metadata": {},
   "outputs": [],
   "source": [
    "diag_usecols = list(data_utils.DIAG_FIELDS.values())\n",
    "diag_data_dir = PATHS.DATA_DIR\n",
    "diag_df = pd.DataFrame()"
   ]
  },
  {
   "cell_type": "code",
   "execution_count": null,
   "id": "3b488dc0",
   "metadata": {},
   "outputs": [],
   "source": [
    "#diag_df = aggregate_csvs(os.path.join(PATHS.DATA_DIR, \"*.csv\"), diag_df, usecols)\n",
    "diag_df = concat_csvs(diag_data_dir, diag_df, diag_usecols)"
   ]
  },
  {
   "cell_type": "code",
   "execution_count": null,
   "id": "a74f6fe9",
   "metadata": {},
   "outputs": [],
   "source": [
    "diag_df.shape"
   ]
  },
  {
   "cell_type": "code",
   "execution_count": null,
   "id": "f6c03084",
   "metadata": {},
   "outputs": [],
   "source": [
    "diag_df.to_pickle(os.path.join(PATHS.OUTPUT_DIR, \"diag_df.pkl\"))"
   ]
  }
 ],
 "metadata": {
  "kernelspec": {
   "display_name": "Python 3 (ipykernel)",
   "language": "python",
   "name": "python3"
  },
  "language_info": {
   "codemirror_mode": {
    "name": "ipython",
    "version": 3
   },
   "file_extension": ".py",
   "mimetype": "text/x-python",
   "name": "python",
   "nbconvert_exporter": "python",
   "pygments_lexer": "ipython3",
   "version": "3.10.6"
  }
 },
 "nbformat": 4,
 "nbformat_minor": 5
}
