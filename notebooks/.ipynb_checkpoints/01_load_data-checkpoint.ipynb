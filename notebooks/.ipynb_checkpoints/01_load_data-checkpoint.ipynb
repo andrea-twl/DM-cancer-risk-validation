{
 "cells": [
  {
   "cell_type": "code",
   "execution_count": 116,
   "id": "f583e4d3",
   "metadata": {},
   "outputs": [],
   "source": [
    "import sys\n",
    "import pandas as pd\n",
    "import numpy as np\n",
    "from glob import glob\n",
    "import os\n",
    "from types import SimpleNamespace\n",
    "\n",
    "REPO_DIR = os.path.abspath(\"..\")\n",
    "sys.path.append(REPO_DIR)\n",
    "\n",
    "import utils.data_utils as data_utils\n",
    "import utils.PATHS as PATHS"
   ]
  },
  {
   "cell_type": "code",
   "execution_count": 117,
   "id": "ecec13a6",
   "metadata": {},
   "outputs": [],
   "source": [
    "LAB_FIELDS = SimpleNamespace(**data_utils.LAB_FIELDS)\n",
    "DIAG_FIELDS = SimpleNamespace(**data_utils.DIAG_FIELDS)"
   ]
  },
  {
   "cell_type": "markdown",
   "id": "74459cc1",
   "metadata": {},
   "source": [
    "## Load lab data"
   ]
  },
  {
   "cell_type": "code",
   "execution_count": 75,
   "id": "146f80da",
   "metadata": {},
   "outputs": [],
   "source": [
    "def concat_csvs(data_dir, curr_df = pd.DataFrame(), usecols=[]):\n",
    "    files = glob(os.path.join(data_dir, \"*.csv\"))\n",
    "    df_list = []\n",
    "    df_list = [pd.read_csv(file, usecols=usecols) for file in files]\n",
    "    df_all  = pd.concat([curr_df, *df_list], ignore_index=True)\n",
    "    print(df_all.shape)\n",
    "    return df_all"
   ]
  },
  {
   "cell_type": "code",
   "execution_count": 76,
   "id": "e209c4be",
   "metadata": {},
   "outputs": [
    {
     "data": {
      "text/plain": [
       "\"def aggregate_csvs(input_dir, curr_df = pd.DataFrame(), usecols=None):\\n    files = glob(input_dir)\\n    df_list = []\\n    if usecols:\\n        df_list = [pd.read_csv(file,engine='python',error_bad_lines=False, usecols=usecols) for file in files]\\n    else: \\n        df_list = [pd.read_csv(file) for file in files]\\n    df_all  = pd.concat([curr_df, *df_list], ignore_index=True)\\n    return df_all\""
      ]
     },
     "execution_count": 76,
     "metadata": {},
     "output_type": "execute_result"
    }
   ],
   "source": [
    "'''def aggregate_csvs(input_dir, curr_df = pd.DataFrame(), usecols=None):\n",
    "    files = glob(input_dir)\n",
    "    df_list = []\n",
    "    if usecols:\n",
    "        df_list = [pd.read_csv(file,engine='python',error_bad_lines=False, usecols=usecols) for file in files]\n",
    "    else: \n",
    "        df_list = [pd.read_csv(file) for file in files]\n",
    "    df_all  = pd.concat([curr_df, *df_list], ignore_index=True)\n",
    "    return df_all'''"
   ]
  },
  {
   "cell_type": "code",
   "execution_count": 102,
   "id": "7086e07c",
   "metadata": {},
   "outputs": [],
   "source": [
    "lab_usecols = list(data_utils.LAB_FIELDS.values())\n",
    "lab_data_dir = os.path.join(PATHS.DATA_DIR, \"SGH 2015-2022\")\n",
    "lab_df = pd.DataFrame()\n"
   ]
  },
  {
   "cell_type": "code",
   "execution_count": 113,
   "id": "34a61324",
   "metadata": {},
   "outputs": [
    {
     "name": "stdout",
     "output_type": "stream",
     "text": [
      "(57743083, 8)\n"
     ]
    }
   ],
   "source": [
    "## Cyclically swap fresh csvs into data_dir and run this as many times required\n",
    "lab_df = concat_csvs(lab_data_dir, lab_df, lab_usecols) #(8902198, 8)(17460181, 8)(25455172, 8)(29939622, 8)(37719893, 8)(46077233, 8)(51939302, 8)\n",
    "#labs_df = aggregate_csvs((lab_data_dir, \"*.csv\"), labs_df, lab_usecols)"
   ]
  },
  {
   "cell_type": "code",
   "execution_count": 111,
   "id": "11ad3b85",
   "metadata": {},
   "outputs": [],
   "source": [
    "labs_df = lab_df"
   ]
  },
  {
   "cell_type": "code",
   "execution_count": 103,
   "id": "a812b6e5",
   "metadata": {},
   "outputs": [],
   "source": []
  },
  {
   "cell_type": "code",
   "execution_count": null,
   "id": "e92bc5e7",
   "metadata": {},
   "outputs": [],
   "source": [
    "lab_df.to_csv(os.path.join(PATHS.OUTPUT_DIR, \"labs_master.csv\"))\n",
    "lab_df.to_pickle(\"labs_df.pkl\")"
   ]
  },
  {
   "cell_type": "code",
   "execution_count": null,
   "id": "47fc51e2",
   "metadata": {},
   "outputs": [],
   "source": [
    "print(lab_df.shape)"
   ]
  },
  {
   "cell_type": "markdown",
   "id": "a54e99bf",
   "metadata": {},
   "source": [
    "## Load diag data"
   ]
  },
  {
   "cell_type": "code",
   "execution_count": null,
   "id": "87bebb9b",
   "metadata": {},
   "outputs": [],
   "source": [
    "## Repeat steps above"
   ]
  },
  {
   "cell_type": "code",
   "execution_count": 130,
   "id": "0b1a9214",
   "metadata": {},
   "outputs": [],
   "source": [
    "def concat_csvs(data_dir, curr_df = pd.DataFrame(), usecols=[]):\n",
    "    files = glob(os.path.join(data_dir, \"*.csv\"))\n",
    "    df_list = []\n",
    "    df_list = [pd.read_csv(file, usecols=usecols) for file in files]\n",
    "    df_all  = pd.concat([curr_df, *df_list], ignore_index=True)\n",
    "    print(df_all.shape)\n",
    "    return df_all"
   ]
  },
  {
   "cell_type": "code",
   "execution_count": 131,
   "id": "1057d092",
   "metadata": {},
   "outputs": [],
   "source": [
    "lab_usecols = list(data_utils.DIAG_FIELDS.values())\n",
    "lab_data_dir = os.path.join(PATHS.DATA_DIR, \"SGH 2015-2022\")\n",
    "lab_df = pd.DataFrame()"
   ]
  },
  {
   "cell_type": "code",
   "execution_count": 132,
   "id": "6904ba13",
   "metadata": {},
   "outputs": [
    {
     "ename": "TypeError",
     "evalue": "glob() takes 1 positional argument but 2 were given",
     "output_type": "error",
     "traceback": [
      "\u001b[0;31m---------------------------------------------------------------------------\u001b[0m",
      "\u001b[0;31mTypeError\u001b[0m                                 Traceback (most recent call last)",
      "Cell \u001b[0;32mIn[132], line 2\u001b[0m\n\u001b[1;32m      1\u001b[0m \u001b[38;5;66;03m#diag_df = aggregate_csvs(os.path.join(PATHS.DATA_DIR, \"*.csv\"), diag_df, usecols)\u001b[39;00m\n\u001b[0;32m----> 2\u001b[0m diag_df \u001b[38;5;241m=\u001b[39m \u001b[43maggregate_csvs\u001b[49m\u001b[43m(\u001b[49m\u001b[43minput_dir\u001b[49m\u001b[43m,\u001b[49m\u001b[43m \u001b[49m\u001b[43mdiag_df\u001b[49m\u001b[43m,\u001b[49m\u001b[43m \u001b[49m\u001b[43musecols\u001b[49m\u001b[43m)\u001b[49m\n",
      "Cell \u001b[0;32mIn[130], line 2\u001b[0m, in \u001b[0;36maggregate_csvs\u001b[0;34m(input_dir, curr_df, usecols)\u001b[0m\n\u001b[1;32m      1\u001b[0m \u001b[38;5;28;01mdef\u001b[39;00m \u001b[38;5;21maggregate_csvs\u001b[39m(input_dir, curr_df \u001b[38;5;241m=\u001b[39m pd\u001b[38;5;241m.\u001b[39mDataFrame(), usecols\u001b[38;5;241m=\u001b[39m[]):\n\u001b[0;32m----> 2\u001b[0m     files \u001b[38;5;241m=\u001b[39m \u001b[43mglob\u001b[49m\u001b[43m(\u001b[49m\u001b[43minput_dir\u001b[49m\u001b[43m,\u001b[49m\u001b[43m  \u001b[49m\u001b[38;5;124;43m\"\u001b[39;49m\u001b[38;5;124;43m*.csv\u001b[39;49m\u001b[38;5;124;43m\"\u001b[39;49m\u001b[43m)\u001b[49m\n\u001b[1;32m      3\u001b[0m     df_list \u001b[38;5;241m=\u001b[39m []\n\u001b[1;32m      4\u001b[0m     df_list \u001b[38;5;241m=\u001b[39m [pd\u001b[38;5;241m.\u001b[39mread_csv(file, usecols\u001b[38;5;241m=\u001b[39musecols) \u001b[38;5;28;01mfor\u001b[39;00m file \u001b[38;5;129;01min\u001b[39;00m files]\n",
      "\u001b[0;31mTypeError\u001b[0m: glob() takes 1 positional argument but 2 were given"
     ]
    }
   ],
   "source": [
    "#diag_df = aggregate_csvs(os.path.join(PATHS.DATA_DIR, \"*.csv\"), diag_df, usecols)\n",
    "diag_df = aggregate_csvs(input_dir, diag_df, usecols)"
   ]
  },
  {
   "cell_type": "code",
   "execution_count": null,
   "id": "f7b55b7a",
   "metadata": {},
   "outputs": [],
   "source": [
    "diag_df1=diag_df"
   ]
  },
  {
   "cell_type": "code",
   "execution_count": null,
   "id": "1ff99214",
   "metadata": {},
   "outputs": [],
   "source": [
    "diag_df.to_pickle(\"./cancer.pkl\")"
   ]
  }
 ],
 "metadata": {
  "kernelspec": {
   "display_name": "Python 3 (ipykernel)",
   "language": "python",
   "name": "python3"
  },
  "language_info": {
   "codemirror_mode": {
    "name": "ipython",
    "version": 3
   },
   "file_extension": ".py",
   "mimetype": "text/x-python",
   "name": "python",
   "nbconvert_exporter": "python",
   "pygments_lexer": "ipython3",
   "version": "3.10.6"
  }
 },
 "nbformat": 4,
 "nbformat_minor": 5
}
