{
 "cells": [
  {
   "cell_type": "code",
   "execution_count": null,
   "id": "f3c5be3b",
   "metadata": {},
   "outputs": [],
   "source": [
    "import sys\n",
    "import pandas as pd\n",
    "import numpy as np\n",
    "from glob import glob\n",
    "import os\n",
    "from types import SimpleNamespace\n",
    "\n",
    "REPO_DIR = os.path.abspath(\"..\")\n",
    "sys.path.append(REPO_DIR)\n",
    "\n",
    "import utils.data_utils as data_utils\n",
    "import utils.PATHS as PATHS"
   ]
  },
  {
   "cell_type": "code",
   "execution_count": null,
   "id": "a5dbc431",
   "metadata": {},
   "outputs": [],
   "source": [
    "LAB_FIELDS = SimpleNamespace(**data_utils.LAB_FIELDS)\n",
    "DIAG_FIELDS = SimpleNamespace(**data_utils.DIAG_FIELDS)"
   ]
  },
  {
   "cell_type": "markdown",
   "id": "4a46c9cf",
   "metadata": {},
   "source": [
    "## Load lab data"
   ]
  },
  {
   "cell_type": "code",
   "execution_count": null,
   "id": "e60b2f95",
   "metadata": {},
   "outputs": [],
   "source": [
    "def concat_csvs(data_dir, curr_df = pd.DataFrame(), usecols=[]):\n",
    "    files = glob(os.path.join(data_dir, \"*.csv\"))\n",
    "    df_list = []\n",
    "    df_list = [pd.read_csv(file, usecols=usecols) for file in files]\n",
    "    df_all  = pd.concat([curr_df, *df_list], ignore_index=True)\n",
    "    return df_all"
   ]
  },
  {
   "cell_type": "code",
   "execution_count": null,
   "id": "5a7369bc",
   "metadata": {},
   "outputs": [],
   "source": [
    "lab_usecols = list(data_utils.LAB_FIELDS)\n",
    "lab_data_dir =PATHS.DATA_DIR\n",
    "lab_df = pd.DataFrame()"
   ]
  },
  {
   "cell_type": "code",
   "execution_count": null,
   "id": "2f0fc9d5",
   "metadata": {},
   "outputs": [],
   "source": [
    "## Cyclically swap fresh csvs into data_dir and run this as many times required\n",
    "lab_df = concat_csvs(lab_data_dir, lab_df, lab_usecols)"
   ]
  },
  {
   "cell_type": "code",
   "execution_count": null,
   "id": "8fbf5153",
   "metadata": {},
   "outputs": [],
   "source": [
    "lab_df.to_csv(os.path.join(PATHS.OUTPUT_DIR, \"labs.csv\"))"
   ]
  },
  {
   "cell_type": "markdown",
   "id": "0ec204a5",
   "metadata": {},
   "source": [
    "## Load diag data"
   ]
  },
  {
   "cell_type": "code",
   "execution_count": null,
   "id": "7cd55b60",
   "metadata": {},
   "outputs": [],
   "source": [
    "## Repeat steps above"
   ]
  },
  {
   "cell_type": "code",
   "execution_count": null,
   "id": "92281cd5",
   "metadata": {},
   "outputs": [],
   "source": []
  }
 ],
 "metadata": {
  "kernelspec": {
   "display_name": "Python 3 (ipykernel)",
   "language": "python",
   "name": "python3"
  },
  "language_info": {
   "codemirror_mode": {
    "name": "ipython",
    "version": 3
   },
   "file_extension": ".py",
   "mimetype": "text/x-python",
   "name": "python",
   "nbconvert_exporter": "python",
   "pygments_lexer": "ipython3",
   "version": "3.10.6"
  }
 },
 "nbformat": 4,
 "nbformat_minor": 5
}
