{
 "cells": [
  {
   "cell_type": "code",
   "execution_count": null,
   "id": "00454fce",
   "metadata": {},
   "outputs": [],
   "source": [
    "import pandas as pd\n",
    "import numpy as np\n",
    "from glob import glob\n",
    "import os\n",
    "from pandas.tseries.offsets import DateOffset\n",
    "\n",
    "HOME_DIR = \"/home/jovyan\"\n",
    "DATA_DIR = os.path.join(HOME_DIR, \"arc-sg/data\")\n",
    "OUTPUT_DIR = os.path.join(HOME_DIR, \"arc-sg/outputs\")"
   ]
  },
  {
   "cell_type": "code",
   "execution_count": null,
   "id": "2f949346",
   "metadata": {},
   "outputs": [],
   "source": []
  },
  {
   "cell_type": "markdown",
   "id": "6010960b",
   "metadata": {},
   "source": [
    "## Collate 5 years of lab data\n",
    "Rerun as files are added in batches (space issues)"
   ]
  },
  {
   "cell_type": "code",
   "execution_count": null,
   "id": "9f01bc8d",
   "metadata": {},
   "outputs": [],
   "source": [
    "FIELD = {\n",
    "    \"ID\": \"Patient ID\",\n",
    "    \"RACE\": \"Race\",\n",
    "    \"DOB\": \"Date of Birth\",\n",
    "    \"Nationality\": \"Nationality\",\n",
    "    \"INSTITUTION\": \"Institution Code\",\n",
    "    \"TEST_NAME\": \"Lab Resulted Order Test Description\",\n",
    "    \"RESULT\": \"Result Value\",\n",
    "    \"DATE\": \"Specimen Received Date\" # \"Specimen Collection Date\",\n",
    "}"
   ]
  },
  {
   "cell_type": "code",
   "execution_count": null,
   "id": "4423db82",
   "metadata": {},
   "outputs": [],
   "source": [
    "FIELD.values()"
   ]
  },
  {
   "cell_type": "code",
   "execution_count": null,
   "id": "c41e248e",
   "metadata": {},
   "outputs": [],
   "source": [
    "def aggregate_csvs(input_dir, curr_df = pd.DataFrame(), usecols=[]):\n",
    "    files = glob(input_dir)\n",
    "    df_list = []\n",
    "    df_list = [pd.read_csv(file, usecols=usecols) for file in files]\n",
    "    df_all  = pd.concat([curr_df, *df_list], ignore_index=True)\n",
    "    return df_all"
   ]
  },
  {
   "cell_type": "code",
   "execution_count": null,
   "id": "eceec0d9",
   "metadata": {},
   "outputs": [],
   "source": [
    "input_dir = os.path.join(DATA_DIR, \"SGH 2015-2022\", \"*.csv\")\n",
    "usecols = ['Patient ID','Gender', 'Date of Birth','Specimen Received Date', 'Lab Resulted Order Test Description','Result Value' ] # temporarily\n",
    "# usecols = FIELD.values()\n",
    "labs_df = pd.DataFrame()"
   ]
  },
  {
   "cell_type": "code",
   "execution_count": null,
   "id": "c6d4ed16",
   "metadata": {},
   "outputs": [],
   "source": [
    "labs_df = aggregate_csvs(os.path.join(DATA_DIR, \"SGH 2015-2022\", \"*.csv\"), labs_df, usecols)"
   ]
  },
  {
   "cell_type": "code",
   "execution_count": null,
   "id": "9c73479f",
   "metadata": {},
   "outputs": [],
   "source": [
    "labs_path = os.path.join(OUTPUT_DIR, \"labs_2015-2022(2).pkl\")\n",
    "labs_df.to_pickle(labs_path)"
   ]
  },
  {
   "cell_type": "code",
   "execution_count": null,
   "id": "0aa1e68a",
   "metadata": {},
   "outputs": [],
   "source": [
    "labs_df"
   ]
  },
  {
   "cell_type": "markdown",
   "id": "c71b3229",
   "metadata": {},
   "source": [
    "## Lab test exploration"
   ]
  },
  {
   "cell_type": "code",
   "execution_count": null,
   "id": "aa49e421",
   "metadata": {},
   "outputs": [],
   "source": [
    "glucose_mask = labs_df[FIELD[\"TEST_NAME\"]].str.contains(\"glucose\", case=False, na=False) & labs_df[FIELD[\"TEST_NAME\"]].str.contains(\"fasting\", case=False, na=False)"
   ]
  },
  {
   "cell_type": "code",
   "execution_count": null,
   "id": "cdf2ad96",
   "metadata": {},
   "outputs": [],
   "source": [
    "ldl_mask = labs_df[FIELD[\"TEST_NAME\"]].str.contains(\"ldl\", case=False, na=False) # "
   ]
  },
  {
   "cell_type": "code",
   "execution_count": null,
   "id": "25ba4005",
   "metadata": {},
   "outputs": [],
   "source": [
    "fasting_glucose = labs_df[glucose_mask]"
   ]
  },
  {
   "cell_type": "code",
   "execution_count": null,
   "id": "1e89c1b1",
   "metadata": {},
   "outputs": [],
   "source": [
    "fasting_glucose[FIELD[\"TEST_NAME\"]].unique()"
   ]
  },
  {
   "cell_type": "code",
   "execution_count": null,
   "id": "25f77967",
   "metadata": {},
   "outputs": [],
   "source": [
    "ldl = labs_df[ldl_mask]"
   ]
  },
  {
   "cell_type": "code",
   "execution_count": null,
   "id": "d9bd176b",
   "metadata": {},
   "outputs": [],
   "source": [
    "ldl[FIELD[\"TEST_NAME\"]].unique()"
   ]
  },
  {
   "cell_type": "markdown",
   "id": "069d93e7",
   "metadata": {},
   "source": [
    "## Lab test filtering"
   ]
  },
  {
   "cell_type": "code",
   "execution_count": null,
   "id": "b7cfb6ef",
   "metadata": {},
   "outputs": [],
   "source": [
    "test = ldl[ldl[FIELD[\"TEST_NAME\"]]==\"CHOLESTEROL,TG,HDL,LDL\"]\n",
    "test[FIELD[\"RESULT\"]].unique()"
   ]
  },
  {
   "cell_type": "code",
   "execution_count": null,
   "id": "cb0c6a4a",
   "metadata": {},
   "outputs": [],
   "source": [
    "labs_df[labs_df[FIELD[\"TEST_NAME\"]].str.contains(\"triglycerides\", case=False, na=False)]"
   ]
  },
  {
   "cell_type": "code",
   "execution_count": null,
   "id": "7151e324",
   "metadata": {},
   "outputs": [],
   "source": [
    "labs_path = os.path.join(OUTPUT_DIR, \"labs_2015-2022.pkl\")\n",
    "labs_df = pd.read_pickle(labs_path)"
   ]
  },
  {
   "cell_type": "code",
   "execution_count": null,
   "id": "fc959f21",
   "metadata": {},
   "outputs": [],
   "source": [
    "glucose_mask = labs_df[FIELD[\"TEST_NAME\"]].str.contains(\"glucose\", case=False, na=False) & labs_df[FIELD[\"TEST_NAME\"]].str.contains(\"fasting\", case=False, na=False)\n",
    "other_tests_mask = labs_df[FIELD[\"TEST_NAME\"]].str.contains('HBA1C|TRIGLYCERIDES|LDL-CHOLESTEROL,CALCULATED|LDL-CHOLESTEROL,DIRECT', case=False, na=False)"
   ]
  },
  {
   "cell_type": "code",
   "execution_count": null,
   "id": "4dce11ce",
   "metadata": {},
   "outputs": [],
   "source": [
    "filtered_labs_df = labs_df\n",
    "filtered_labs_df['Lab Resulted Order Test Description'] = labs_df['Lab Resulted Order Test Description'].str.replace('GLUCOSE,PLASMA FASTING', 'GLUCOSE FASTING', case=False, regex=True)\n",
    "filtered_labs_df = filtered_labs_df[filtered_labs_df['Lab Resulted Order Test Description'].str.contains('HBA1C|TRIGLYCERIDES|LDL-CHOLESTEROL,CALCULATED|LDL-CHOLESTEROL,DIRECT|GLUCOSE FASTING', case=False, na=False)]"
   ]
  },
  {
   "cell_type": "code",
   "execution_count": null,
   "id": "8a801c2f",
   "metadata": {},
   "outputs": [],
   "source": [
    "##converting all LDL labels to LAD-CHOLESTEROL\n",
    "filtered_labs_df['Lab Resulted Order Test Description'] = filtered_labs_df['Lab Resulted Order Test Description'].str.replace('LDL-CHOLESTEROL,CALCULATED|LDL-CHOLESTEROL,DIRECT', 'LDL-CHOLESTEROL', case=False,regex=True)\n",
    "filtered_labs_df"
   ]
  },
  {
   "cell_type": "code",
   "execution_count": null,
   "id": "e443a76e",
   "metadata": {},
   "outputs": [],
   "source": [
    "filtered_labs_df.to_csv(os.path.join(OUTPUT_DIR, \"filtered_labs.csv\"), index=False)"
   ]
  },
  {
   "cell_type": "markdown",
   "id": "ff969048",
   "metadata": {},
   "source": [
    "# Finalising HbA1C and Triglyceride data"
   ]
  },
  {
   "cell_type": "code",
   "execution_count": null,
   "id": "4ed5421d",
   "metadata": {},
   "outputs": [],
   "source": [
    "filtered_labs_df = pd.read_csv(os.path.join(OUTPUT_DIR, \"filtered_labs.csv\"))\n",
    "filtered_labs_df[FIELD[\"DATE\"]] = pd.to_datetime(filtered_labs_df[FIELD[\"DATE\"]])"
   ]
  },
  {
   "cell_type": "code",
   "execution_count": null,
   "id": "b74f21ff",
   "metadata": {},
   "outputs": [],
   "source": [
    "filtered_labs_df[FIELD[\"TEST_NAME\"]].unique()"
   ]
  },
  {
   "cell_type": "code",
   "execution_count": null,
   "id": "69e4c037",
   "metadata": {},
   "outputs": [],
   "source": [
    "filtered_labs_df = filtered_labs_df[~filtered_labs_df['Lab Resulted Order Test Description'].str.contains('TRIGLYCERIDES,FLUID | TRIGLYCERIDES,URINE', case=False, na=False)]"
   ]
  },
  {
   "cell_type": "code",
   "execution_count": null,
   "id": "90c44aa6",
   "metadata": {},
   "outputs": [],
   "source": [
    "filtered_labs_df['Lab Resulted Order Test Description'].unique()"
   ]
  },
  {
   "cell_type": "markdown",
   "id": "7c30032b",
   "metadata": {},
   "source": [
    "# Convert HbA1C IFCC values into percentage values"
   ]
  },
  {
   "cell_type": "code",
   "execution_count": null,
   "id": "7246393f",
   "metadata": {},
   "outputs": [],
   "source": [
    "filtered_labs_df['Result Value']=pd.to_numeric(filtered_labs_df['Result Value'], errors='coerce')\n",
    "for index, value in filtered_labs_df['Lab Resulted Order Test Description'].items():\n",
    "    if value == 'HBA1C IFCC':\n",
    "        filtered_labs_df.at[index, 'Result Value'] = 0.09148* filtered_labs_df.at[index, 'Result Value']+ 2.152\n",
    "        filtered_labs_df.at[index, 'Lab Resulted Order Test Description'] = 'HBA1C'\n",
    "        \n",
    "filtered_labs_df"
   ]
  },
  {
   "cell_type": "code",
   "execution_count": null,
   "id": "08e7f5ab",
   "metadata": {},
   "outputs": [],
   "source": [
    "dff = filtered_labs_df[filtered_labs_df['Lab Resulted Order Test Description']=='HBA1c, blood (dual reporting)']\n",
    "dff"
   ]
  },
  {
   "cell_type": "markdown",
   "id": "a7e9acec",
   "metadata": {},
   "source": [
    "# Drop rows with 'TRIGLYCERIDES,FLUID', 'TRIGLYCERIDES,URINE', 'HBA1c, blood (dual reporting)''"
   ]
  },
  {
   "cell_type": "code",
   "execution_count": null,
   "id": "9b2264e5",
   "metadata": {},
   "outputs": [],
   "source": [
    "filtered_labs_df = filtered_labs_df[~filtered_labs_df['Lab Resulted Order Test Description'].isin (['TRIGLYCERIDES,FLUID' , 'TRIGLYCERIDES,URINE', 'HBA1c, blood (dual reporting)'])]\n",
    "filtered_labs_df"
   ]
  },
  {
   "cell_type": "markdown",
   "id": "42be7e35",
   "metadata": {},
   "source": [
    "## Counting number of tests for within start (DM dx date) and end (Cancer dx date)"
   ]
  },
  {
   "cell_type": "code",
   "execution_count": null,
   "id": "c0436cc3",
   "metadata": {},
   "outputs": [],
   "source": []
  },
  {
   "cell_type": "code",
   "execution_count": null,
   "id": "6b6bdcbf",
   "metadata": {},
   "outputs": [],
   "source": [
    "'''tests = {\n",
    "    \"Fasting Glucose\": \"glucose\",\n",
    "    \"HbA1c\": \"hba1c\",\n",
    "    \"Triglycerides\": \"triglycerides\",\n",
    "    \"LDL\": \"ldl\"\n",
    "}'''"
   ]
  },
  {
   "cell_type": "code",
   "execution_count": null,
   "id": "24ef1caf",
   "metadata": {},
   "outputs": [],
   "source": [
    "'''def get_DM_dx(df):\n",
    "    # Determine if currently has diabetes\n",
    "    is_diabetic = True\n",
    "    \n",
    "    # Determine if there are values to be excluded if there is a DM date within the lab values\n",
    "    DM_dx_dt = df[FIELD[\"DATE\"]].iloc[0]\n",
    "    return is_diabetic, DM_dx_dt'''"
   ]
  },
  {
   "cell_type": "code",
   "execution_count": null,
   "id": "ce51ad9c",
   "metadata": {},
   "outputs": [],
   "source": [
    "'''def get_cancer_dx(df):\n",
    "    cancers = []\n",
    "    dts = []\n",
    "    return cancers, dts'''"
   ]
  },
  {
   "cell_type": "code",
   "execution_count": null,
   "id": "f87be33f",
   "metadata": {},
   "outputs": [],
   "source": [
    "'''def agg_pt_details(grp):\n",
    "    grp = grp.sort_values(by=FIELD[\"DATE\"])\n",
    "    # Initialise dict\n",
    "    result = {\"meets_criteria\": True, \n",
    "              \"CANCER\": [],\n",
    "              \"CANCER Date\": []}\n",
    "    for key in tests:\n",
    "        result.update({key: [], key + \" Dates\": []})\n",
    "    \n",
    "    # 01 Check for diabetes, return if no diabetes\n",
    "    \n",
    "    is_diabetic, DM_dx_dt = get_DM_dx(grp)\n",
    "    if is_diabetic is False:\n",
    "        result[\"meets_criteria\"] = False\n",
    "        return pd.Series(result)\n",
    "\n",
    "    # 02 Check for cancer\n",
    "    \n",
    "    cancers, cancer_dts = get_cancer_dx(grp)\n",
    "    earliest_cancer_dt = None\n",
    "    if (len(cancer_dts) > 0):\n",
    "        earliest_cancer_dt = sorted(cancer_dt)[0]\n",
    " \n",
    "    # 03 Extract tests within given window\n",
    "    \n",
    "    date_mask = pd.Series(True, index=grp.index)\n",
    "    if DM_dx_dt is not None:\n",
    "        date_mask &= grp[FIELD[\"DATE\"]] >= pd.to_datetime(DM_dx_dt)\n",
    "    if earliest_cancer_dt is not None:\n",
    "        date_mask &= grp[FIELD[\"DATE\"]] >= pd.to_datetime(earliest_cancer_dt) - pd.DateOffset(years=1)\n",
    "    windowed_grp = grp[date_mask]\n",
    "    \n",
    "    for key, val in tests.items():\n",
    "        test_grp = windowed_grp[grp[FIELD[\"TEST_NAME\"].str.contains(val, case=False, na=False)]]\n",
    "        result[\"CANCER\"] = test_grp[FIELD[\"RESULT\"]].to_numpy()\n",
    "        result[\"CANCER date\"] = test_grp[FIELD[\"DATE\"]].to_numpy()\n",
    "        \n",
    "    return pd.Series(result)'''"
   ]
  },
  {
   "cell_type": "code",
   "execution_count": null,
   "id": "a7de3084",
   "metadata": {},
   "outputs": [],
   "source": [
    "filtered_labs_df"
   ]
  },
  {
   "cell_type": "markdown",
   "id": "c28b534c",
   "metadata": {},
   "source": [
    "## Load and filter diagnosis data"
   ]
  },
  {
   "cell_type": "code",
   "execution_count": null,
   "id": "c1479670",
   "metadata": {},
   "outputs": [],
   "source": [
    "'''usecols = []\n",
    "diag_df = pd.DataFrame()'''"
   ]
  },
  {
   "cell_type": "code",
   "execution_count": null,
   "id": "753f5fd7",
   "metadata": {},
   "outputs": [],
   "source": [
    "'''diag_df = aggregate_csvs(os.path.join(HOME_DIR, \"elpha-data/diagnosis\", \"*.csv\"), diag_df, usecols)''''''"
   ]
  },
  {
   "cell_type": "code",
   "execution_count": null,
   "id": "2f7aa40b",
   "metadata": {},
   "outputs": [],
   "source": []
  },
  {
   "cell_type": "markdown",
   "id": "e998861b",
   "metadata": {},
   "source": [
    "# WIDE DATA FORMAT"
   ]
  },
  {
   "cell_type": "code",
   "execution_count": null,
   "id": "6e318cba",
   "metadata": {},
   "outputs": [],
   "source": [
    "grouped_data = filtered_labs_df.groupby(['Patient ID','Gender','Date of Birth','Lab Resulted Order Test Description'])\\\n",
    ".apply(lambda x: list(zip(pd.to_datetime(x['Specimen Received Date']).dt.strftime('%Y-%m-%d'), x['Result Value']))) \\\n",
    ".reset_index(name = 'date_result')"
   ]
  },
  {
   "cell_type": "code",
   "execution_count": null,
   "id": "63fc1211",
   "metadata": {},
   "outputs": [],
   "source": [
    "wide_data = grouped_data.pivot(index=['Patient ID','Gender','Date of Birth'], columns = 'Lab Resulted Order Test Description', values = 'date_result')"
   ]
  },
  {
   "cell_type": "code",
   "execution_count": null,
   "id": "5c496378",
   "metadata": {},
   "outputs": [],
   "source": [
    "for test in ['HBA1C', 'GLUCOSE FASTING', 'LDL-CHOLESTEROL', 'TRIGLYCERIDES']:\n",
    "    wide_data[f'{test}_name']=test\n",
    "    wide_data[f'{test}_results'] = wide_data[test]\n",
    "    wide_data.drop(columns = [test], inplace=True)\n",
    "    "
   ]
  },
  {
   "cell_type": "code",
   "execution_count": null,
   "id": "ccf20cce",
   "metadata": {},
   "outputs": [],
   "source": [
    "for test in ['HBA1C', 'GLUCOSE FASTING', 'LDL-CHOLESTEROL', 'TRIGLYCERIDES']:\n",
    "    wide_data[f'{test}_results'] = wide_data[f'{test}_results'].apply(\n",
    "             lambda lst: sorted(lst, key=lambda x: pd.to_datetime(x[0])) if isinstance(lst, list) else lst\n",
    "    )"
   ]
  },
  {
   "cell_type": "code",
   "execution_count": null,
   "id": "f0467de9",
   "metadata": {},
   "outputs": [],
   "source": [
    "wide_data"
   ]
  },
  {
   "cell_type": "markdown",
   "id": "84328d70",
   "metadata": {},
   "source": [
    "# ADDING NEW DIABETIC COLUMN"
   ]
  },
  {
   "cell_type": "code",
   "execution_count": null,
   "id": "663c22b3",
   "metadata": {},
   "outputs": [],
   "source": [
    "def check_diabetic(result_list):\n",
    "        if not isinstance (result_list,list):\n",
    "            return 'Not Diabetic'\n",
    "        for _,value in result_list:\n",
    "            try:\n",
    "                if float(value) > 6.5:\n",
    "                    return 'diabetic'\n",
    "            except:\n",
    "                continue\n",
    "        return 'Non-diabetic'"
   ]
  },
  {
   "cell_type": "code",
   "execution_count": null,
   "id": "186255aa",
   "metadata": {},
   "outputs": [],
   "source": [
    "wide_data['Diabetic_status'] = wide_data['HBA1C_results'].apply(check_diabetic)"
   ]
  },
  {
   "cell_type": "code",
   "execution_count": null,
   "id": "5a37674e",
   "metadata": {},
   "outputs": [],
   "source": [
    "wide_data"
   ]
  },
  {
   "cell_type": "markdown",
   "id": "1fca2cbe",
   "metadata": {},
   "source": [
    "# Finding date of Diabetus diagnosis"
   ]
  },
  {
   "cell_type": "code",
   "execution_count": null,
   "id": "bc12e04d",
   "metadata": {},
   "outputs": [],
   "source": [
    "def diabetus_diagnosis_date(results):\n",
    "    if not isinstance (results, list):\n",
    "        return pd.NaT\n",
    "    \n",
    "    for date,val in results:\n",
    "        try:\n",
    "            if float(val) > 6.5:\n",
    "                return pd.to_datetime(date).date()\n",
    "        except:\n",
    "            continue\n",
    "    return pd.NaT\n",
    "\n",
    "wide_data['diabetic_diagnosis_date'] = wide_data['HBA1C_results'].apply(diabetus_diagnosis_date)\n",
    "wide_data"
   ]
  },
  {
   "cell_type": "markdown",
   "id": "e71e936d",
   "metadata": {},
   "source": [
    "# MERGING WITH CANCER DATA"
   ]
  },
  {
   "cell_type": "code",
   "execution_count": null,
   "id": "41c65865",
   "metadata": {},
   "outputs": [],
   "source": []
  },
  {
   "cell_type": "code",
   "execution_count": null,
   "id": "60904269",
   "metadata": {},
   "outputs": [],
   "source": [
    "diag_data = pd.read_pickle('/home/jovyan/elpha-data/outputs/diagnosis(2).pkl')"
   ]
  },
  {
   "cell_type": "code",
   "execution_count": null,
   "id": "e7ddf51b",
   "metadata": {},
   "outputs": [],
   "source": [
    "diag_data"
   ]
  },
  {
   "cell_type": "code",
   "execution_count": null,
   "id": "594676a7",
   "metadata": {},
   "outputs": [],
   "source": [
    "data_combined = pd.merge(sugar_data, diag_data[['Patient ID','Diagnosis Code (ICD10)', 'Diagnosis Date']], on='Patient ID', how='left')\n",
    "data_combined"
   ]
  },
  {
   "cell_type": "markdown",
   "id": "ea9a9e06",
   "metadata": {},
   "source": [
    "# save as a pickle file as 'combined_data'"
   ]
  },
  {
   "cell_type": "code",
   "execution_count": null,
   "id": "477c2341",
   "metadata": {},
   "outputs": [],
   "source": [
    "def filter_before_diagnosis(results, diabetus_diagnosis_date, cancer_date):\n",
    "    if not isinstance(results, list) or pd.isna(diabetus_diagnosis_date):\n",
    "        return results\n",
    "    \n",
    "    if isinstance(diabetus_diagnosis_date, pd.Timestamp):\n",
    "        diabetus_diagnosis_date = diabetus_diagnosis_date.date()\n",
    "    if isinstance(cancer_date, pd.Timestamp):\n",
    "        cancer_date = cancer_date.date()\n",
    "        \n",
    "    filtered=[]\n",
    "    \n",
    "    for d,v in results:\n",
    "        try:\n",
    "            test_date = pd.to_datetime(d).date()\n",
    "            \n",
    "            if(pd.notna(diabetus_diagnosis_date) and test_date < diabetic_diagnosis_date):\n",
    "                continue\n",
    "            if (pd.notna(cancer_date) and test_date >= cancer_date - timedelta(days=365)):\n",
    "                continue\n",
    "            filtered.append((d,v))\n",
    "        except:\n",
    "            continue\n",
    "        \n",
    "    return filtered\n",
    "\n"
   ]
  },
  {
   "cell_type": "code",
   "execution_count": null,
   "id": "583f94ba",
   "metadata": {},
   "outputs": [],
   "source": [
    "tests_cols = ['HBA1C_results', 'GLUCOSE FASTING_results', 'LDL-CHOLESTEROL_results', 'TRIGLYCERIDES_results']\n",
    "\n",
    "for col in tests_cols:\n",
    "    data_combined[col] = data_combined.apply(\n",
    "        lambda row: filter_before_diagnosis(row[col], row ['diabetic_diagnosis_date'], row['Diagnosis Date']), axis=1)\n",
    "\n",
    "data_combined"
   ]
  },
  {
   "cell_type": "markdown",
   "id": "3b8bae5c",
   "metadata": {},
   "source": [
    "# count of available test results"
   ]
  },
  {
   "cell_type": "code",
   "execution_count": null,
   "id": "551a0bdb",
   "metadata": {},
   "outputs": [],
   "source": [
    "tests_results_available = {'HBA1C_results' : 'Num_HBA1C_results', 'GLUCOSE FASTING_results' : 'Num_Fasting_glucode_results', 'LDL-CHOLESTEROL_results' : 'Num_LDL_results', 'TRIGLYCERIDES_results' : 'Num_TG_results'}\n",
    "\n",
    "for test_col, count_col in tests_results_available.items():\n",
    "    data_combined[count_col] = data_combined[test_col].apply(lambda x: len(x) if isinstance(x, list) else 0)\n",
    "    \n",
    "data_combined"
   ]
  },
  {
   "cell_type": "code",
   "execution_count": null,
   "id": "88ec73e9",
   "metadata": {},
   "outputs": [],
   "source": [
    "import matplotlib.pyplot as plt\n",
    "\n",
    "count_cols = ['Num_HBA1C_results', 'Num_Fasting_glucode_results', 'Num_LDL_results', 'Num_TG_results']\n",
    "labels = ['HbA1c', 'Fasting_Glucose', 'LDL', 'TG']\n",
    "\n",
    "'''data_combined[count_cols].plot(kind = 'bar' , figsize=(12,6), width=0.8)\n",
    "\n",
    "plt.title('Number of Tests per Patient')\n",
    "plt.xlabel('patient Index')\n",
    "plt.ylabel('Number of tests')\n",
    "\n",
    "plt.xticks(rotation=0)\n",
    "plt.legend(labels=labels)\n",
    "plt.tight_layout()\n",
    "\n",
    "plt.show()'''\n",
    "\n",
    "data_combined [count_cols].plot(kind='box', figsize=(8,6))\n",
    "plt.title('Distribution of test counts')\n",
    "plt.ylabel('Number of Tests')\n",
    "plt.xticks([1,2,3,4], labels)\n",
    "plt.grid(True)\n",
    "plt.show()"
   ]
  },
  {
   "cell_type": "code",
   "execution_count": null,
   "id": "b6f2c5df",
   "metadata": {},
   "outputs": [],
   "source": [
    "def has_high_num(num): \n",
    "    try:\n",
    "        if num >=5:\n",
    "            return True\n",
    "    except:\n",
    "        pass\n",
    "    return False\n",
    "\n",
    "count_cols = ['Num_HBA1C_results', 'Num_Fasting_glucode_results', 'Num_LDL_results', 'Num_TG_results']\n",
    "labels = ['HBA1C_results', 'GLUCOSE FASTING_results', 'LDL-CHOLESTEROL_results', 'TRIGLYCERIDES_results']\n",
    "\n",
    "for i in range (0,len(count_cols),1):\n",
    "    high_num_rows = data_combined[data_combined[count_cols[i]].apply(has_high_num)]\n",
    "    print(high_num_rows[[count_cols[i], labels[i]] ])"
   ]
  },
  {
   "cell_type": "code",
   "execution_count": null,
   "id": "3957426a",
   "metadata": {},
   "outputs": [],
   "source": []
  },
  {
   "cell_type": "code",
   "execution_count": null,
   "id": "05082519",
   "metadata": {},
   "outputs": [],
   "source": [
    "cases_data = data_combined[~data_combined['Diagnosis Code (ICD10)'].isna()].copy()\n",
    "control_data = data_combined[data_combined['Diagnosis Code (ICD10)'].isna()].copy()"
   ]
  },
  {
   "cell_type": "code",
   "execution_count": null,
   "id": "93eed9ee",
   "metadata": {},
   "outputs": [],
   "source": [
    "cases_data"
   ]
  },
  {
   "cell_type": "code",
   "execution_count": null,
   "id": "9d95addf",
   "metadata": {},
   "outputs": [],
   "source": [
    "control_data"
   ]
  },
  {
   "cell_type": "markdown",
   "id": "6f6a5364",
   "metadata": {},
   "source": [
    "# check if there are sufficent test results in cases_data"
   ]
  },
  {
   "cell_type": "code",
   "execution_count": null,
   "id": "6242e176",
   "metadata": {},
   "outputs": [],
   "source": [
    "from dateutil.relativedelta import relativedelta\n",
    "from datetime import datetime"
   ]
  },
  {
   "cell_type": "code",
   "execution_count": null,
   "id": "ef3b41ec",
   "metadata": {},
   "outputs": [],
   "source": [
    "cases_data['Diagnosis Date'] = pd.to_datetime(cases_data['Diagnosis Date'])\n",
    "\n",
    "def check_min_values(row, result_columns, min_count=5, years_before=1):\n",
    "    cutoff = row['Diagnosis Date']- relativedelta(years=years_before)\n",
    "    \n",
    "    for col in result_columns:\n",
    "        result_list = row[col]\n",
    "        \n",
    "        if not isinstance(result_list, list):\n",
    "            return False\n",
    "        try:\n",
    "           valid_values = [val for (dt,val) in result_list if pd.to_datetime(dt) <= cutoff]\n",
    "        except Exception as e:\n",
    "            print(f\"Error processing row: {e}\")\n",
    "            return False\n",
    "            \n",
    "        if len(valid_values) < min_count:\n",
    "            return False\n",
    "    return True\n",
    "        \n",
    "\n",
    "result_columns = ['HBA1C_results','GLUCOSE FASTING_results', 'LDL-CHOLESTEROL_results', 'TRIGLYCERIDES_results' ]\n",
    "cases_data['meets_criteria'] = cases_data.apply(lambda row: check_min_values(row, result_columns), axis=1)\n",
    "\n",
    "if (cases_data['meets_criteria']==True):\n",
    "    print(\"present\")"
   ]
  },
  {
   "cell_type": "code",
   "execution_count": null,
   "id": "cc578c6c",
   "metadata": {},
   "outputs": [],
   "source": [
    "sugar_data = wide_data\n",
    "diag_data = pd.read_pickle('/home/jovyan/elpha-data/outputs/diagnosis(2).pkl')"
   ]
  }
 ],
 "metadata": {
  "kernelspec": {
   "display_name": "Python 3 (ipykernel)",
   "language": "python",
   "name": "python3"
  },
  "language_info": {
   "codemirror_mode": {
    "name": "ipython",
    "version": 3
   },
   "file_extension": ".py",
   "mimetype": "text/x-python",
   "name": "python",
   "nbconvert_exporter": "python",
   "pygments_lexer": "ipython3",
   "version": "3.10.6"
  }
 },
 "nbformat": 4,
 "nbformat_minor": 5
}
