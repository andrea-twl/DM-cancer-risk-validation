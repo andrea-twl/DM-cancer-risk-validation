{
 "cells": [
  {
   "cell_type": "code",
   "execution_count": 12,
   "id": "6f2e5800",
   "metadata": {},
   "outputs": [],
   "source": [
    "import pandas as pd\n",
    "import numpy as np\n",
    "from glob import glob\n",
    "import os\n",
    "\n",
    "HOME_DIR = \"/home/jovyan\"\n",
    "DATA_DIR = os.path.join(HOME_DIR, \"arc-sg/data\")\n",
    "OUTPUT_DIR = os.path.join(HOME_DIR, \"arc-sg/outputs\")"
   ]
  },
  {
   "cell_type": "markdown",
   "id": "a5222d60",
   "metadata": {},
   "source": [
    "## Load 5 years of lab data"
   ]
  },
  {
   "cell_type": "code",
   "execution_count": 10,
   "id": "3dd66f84",
   "metadata": {},
   "outputs": [],
   "source": [
    "def aggregate_csvs(input_dir, curr_df = pd.DataFrame()):\n",
    "    files = glob(input_dir)\n",
    "    df_list = [pd.read_csv(file) for file in files]\n",
    "    df_all  = pd.concat([curr_df, *df_list], ignore_index=True)\n",
    "    return df_all"
   ]
  },
  {
   "cell_type": "code",
   "execution_count": 11,
   "id": "254eef93",
   "metadata": {},
   "outputs": [
    {
     "ename": "TypeError",
     "evalue": "aggregate_csvs() missing 1 required positional argument: 'output_path'",
     "output_type": "error",
     "traceback": [
      "\u001b[0;31m---------------------------------------------------------------------------\u001b[0m",
      "\u001b[0;31mTypeError\u001b[0m                                 Traceback (most recent call last)",
      "Cell \u001b[0;32mIn[11], line 2\u001b[0m\n\u001b[1;32m      1\u001b[0m input_dir \u001b[38;5;241m=\u001b[39m os\u001b[38;5;241m.\u001b[39mpath\u001b[38;5;241m.\u001b[39mjoin(DATA_DIR, \u001b[38;5;124m\"\u001b[39m\u001b[38;5;124mSGH 2015-2022\u001b[39m\u001b[38;5;124m\"\u001b[39m, \u001b[38;5;124m\"\u001b[39m\u001b[38;5;124m*.csv\u001b[39m\u001b[38;5;124m\"\u001b[39m)\n\u001b[0;32m----> 2\u001b[0m labs_df \u001b[38;5;241m=\u001b[39m \u001b[43maggregate_csvs\u001b[49m\u001b[43m(\u001b[49m\u001b[43mos\u001b[49m\u001b[38;5;241;43m.\u001b[39;49m\u001b[43mpath\u001b[49m\u001b[38;5;241;43m.\u001b[39;49m\u001b[43mjoin\u001b[49m\u001b[43m(\u001b[49m\u001b[43mDATA_DIR\u001b[49m\u001b[43m,\u001b[49m\u001b[43m \u001b[49m\u001b[38;5;124;43m\"\u001b[39;49m\u001b[38;5;124;43mSGH 2015-2022\u001b[39;49m\u001b[38;5;124;43m\"\u001b[39;49m\u001b[43m,\u001b[49m\u001b[43m \u001b[49m\u001b[38;5;124;43m\"\u001b[39;49m\u001b[38;5;124;43m*.csv\u001b[39;49m\u001b[38;5;124;43m\"\u001b[39;49m\u001b[43m)\u001b[49m\u001b[43m)\u001b[49m\n",
      "\u001b[0;31mTypeError\u001b[0m: aggregate_csvs() missing 1 required positional argument: 'output_path'"
     ]
    }
   ],
   "source": [
    "input_dir = os.path.join(DATA_DIR, \"SGH 2015-2022\", \"*.csv\")\n",
    "labs_df = aggregate_csvs(os.path.join(DATA_DIR, \"SGH 2015-2022\", \"*.csv\"))"
   ]
  },
  {
   "cell_type": "code",
   "execution_count": null,
   "id": "0fbf275b",
   "metadata": {},
   "outputs": [],
   "source": []
  }
 ],
 "metadata": {
  "kernelspec": {
   "display_name": "Python 3 (ipykernel)",
   "language": "python",
   "name": "python3"
  },
  "language_info": {
   "codemirror_mode": {
    "name": "ipython",
    "version": 3
   },
   "file_extension": ".py",
   "mimetype": "text/x-python",
   "name": "python",
   "nbconvert_exporter": "python",
   "pygments_lexer": "ipython3",
   "version": "3.10.6"
  }
 },
 "nbformat": 4,
 "nbformat_minor": 5
}
