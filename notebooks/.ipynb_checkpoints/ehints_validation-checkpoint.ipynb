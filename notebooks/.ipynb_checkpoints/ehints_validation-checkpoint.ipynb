{
 "cells": [
  {
   "cell_type": "code",
   "execution_count": 12,
   "id": "776a2a94",
   "metadata": {},
   "outputs": [],
   "source": [
    "import pandas as pd\n",
    "import numpy as np\n",
    "from glob import glob\n",
    "import os\n",
    "\n",
    "HOME_DIR = \"/home/jovyan\"\n",
    "DATA_DIR = os.path.join(HOME_DIR, \"arc-sg/data\")\n",
    "OUTPUT_DIR = os.path.join(HOME_DIR, \"arc-sg/outputs\")"
   ]
  },
  {
   "cell_type": "markdown",
   "id": "3c9541cc",
   "metadata": {},
   "source": [
    "## Collate 5 years of lab data\n",
    "Rerun as files are added in batches (space issues)"
   ]
  },
  {
   "cell_type": "code",
   "execution_count": 71,
   "id": "86d5f06a",
   "metadata": {},
   "outputs": [],
   "source": [
    "FIELD = {\n",
    "    \"ID\": \"Patient ID\",\n",
    "    \"RACE\": \"Race\",\n",
    "    \"DOB\": \"Date of Birth\",\n",
    "    \"Nationality\": \"Nationality\",\n",
    "    \"INSTITUTION\": \"Institution Code\",\n",
    "    \"TEST_NAME\": \"Lab Resulted Order Test Description\",\n",
    "    \"RESULT\": \"Result Value\",\n",
    "    \"DATE\": \"Specimen Collection Date\",\n",
    "}"
   ]
  },
  {
   "cell_type": "code",
   "execution_count": 72,
   "id": "55db0358",
   "metadata": {},
   "outputs": [
    {
     "data": {
      "text/plain": [
       "dict_values(['Patient ID', 'Race', 'Date of Birth', 'Nationality', 'Institution Code', 'Lab Resulted Order Test Description', 'Result Value', 'Specimen Collection Date'])"
      ]
     },
     "execution_count": 72,
     "metadata": {},
     "output_type": "execute_result"
    }
   ],
   "source": [
    "FIELD.values()"
   ]
  },
  {
   "cell_type": "code",
   "execution_count": 47,
   "id": "0272142b",
   "metadata": {},
   "outputs": [],
   "source": [
    "def aggregate_csvs(input_dir, curr_df = pd.DataFrame(), usecols=[]):\n",
    "    files = glob(input_dir)\n",
    "    df_list = []\n",
    "    df_list = [pd.read_csv(file, usecols=usecols) for file in files]\n",
    "    df_all  = pd.concat([curr_df, *df_list], ignore_index=True)\n",
    "    return df_all"
   ]
  },
  {
   "cell_type": "code",
   "execution_count": 45,
   "id": "18300cf0",
   "metadata": {},
   "outputs": [],
   "source": [
    "input_dir = os.path.join(DATA_DIR, \"SGH 2015-2022\", \"*.csv\")\n",
    "usecols = ['Patient ID','Gender', 'Date of Birth','Specimen Received Date', 'Lab Resulted Order Test Description','Result Value' ] # temporarily\n",
    "# usecols = FIELD.values()\n",
    "labs_df = pd.DataFrame()"
   ]
  },
  {
   "cell_type": "code",
   "execution_count": 62,
   "id": "f7a94c95",
   "metadata": {},
   "outputs": [],
   "source": [
    "labs_df = aggregate_csvs(os.path.join(DATA_DIR, \"SGH 2015-2022\", \"*.csv\"), labs_df, usecols)"
   ]
  },
  {
   "cell_type": "code",
   "execution_count": 64,
   "id": "8eb2e7ed",
   "metadata": {},
   "outputs": [],
   "source": [
    "labs_path = os.path.join(OUTPUT_DIR, \"labs_2015-2022(2).pkl\")\n",
    "labs_df.to_pickle(labs_path)"
   ]
  },
  {
   "cell_type": "code",
   "execution_count": 65,
   "id": "78d9f11a",
   "metadata": {},
   "outputs": [
    {
     "data": {
      "text/html": [
       "<div>\n",
       "<style scoped>\n",
       "    .dataframe tbody tr th:only-of-type {\n",
       "        vertical-align: middle;\n",
       "    }\n",
       "\n",
       "    .dataframe tbody tr th {\n",
       "        vertical-align: top;\n",
       "    }\n",
       "\n",
       "    .dataframe thead th {\n",
       "        text-align: right;\n",
       "    }\n",
       "</style>\n",
       "<table border=\"1\" class=\"dataframe\">\n",
       "  <thead>\n",
       "    <tr style=\"text-align: right;\">\n",
       "      <th></th>\n",
       "      <th>Patient ID</th>\n",
       "      <th>Gender</th>\n",
       "      <th>Date of Birth</th>\n",
       "      <th>Specimen Received Date</th>\n",
       "      <th>Lab Resulted Order Test Description</th>\n",
       "      <th>Result Value</th>\n",
       "    </tr>\n",
       "  </thead>\n",
       "  <tbody>\n",
       "    <tr>\n",
       "      <th>0</th>\n",
       "      <td>7f7a4ad5417e81870f61</td>\n",
       "      <td>FEMALE</td>\n",
       "      <td>1948-05-01</td>\n",
       "      <td>2015-11-07</td>\n",
       "      <td>CA 19-9</td>\n",
       "      <td>120</td>\n",
       "    </tr>\n",
       "    <tr>\n",
       "      <th>1</th>\n",
       "      <td>7f7a4ad5417e81870f61</td>\n",
       "      <td>FEMALE</td>\n",
       "      <td>1948-05-01</td>\n",
       "      <td>2015-11-07</td>\n",
       "      <td>BICARBONATE</td>\n",
       "      <td>22.6</td>\n",
       "    </tr>\n",
       "    <tr>\n",
       "      <th>2</th>\n",
       "      <td>7f7a4ad5417e81870f61</td>\n",
       "      <td>FEMALE</td>\n",
       "      <td>1948-05-01</td>\n",
       "      <td>2015-11-07</td>\n",
       "      <td>CHLORIDE</td>\n",
       "      <td>101</td>\n",
       "    </tr>\n",
       "    <tr>\n",
       "      <th>3</th>\n",
       "      <td>7f7a4ad5417e81870f61</td>\n",
       "      <td>FEMALE</td>\n",
       "      <td>1948-05-01</td>\n",
       "      <td>2015-11-07</td>\n",
       "      <td>CREATININE</td>\n",
       "      <td>61</td>\n",
       "    </tr>\n",
       "    <tr>\n",
       "      <th>4</th>\n",
       "      <td>7f7a4ad5417e81870f61</td>\n",
       "      <td>FEMALE</td>\n",
       "      <td>1948-05-01</td>\n",
       "      <td>2015-11-07</td>\n",
       "      <td>GLUCOSE</td>\n",
       "      <td>7.6</td>\n",
       "    </tr>\n",
       "    <tr>\n",
       "      <th>...</th>\n",
       "      <td>...</td>\n",
       "      <td>...</td>\n",
       "      <td>...</td>\n",
       "      <td>...</td>\n",
       "      <td>...</td>\n",
       "      <td>...</td>\n",
       "    </tr>\n",
       "    <tr>\n",
       "      <th>42295993</th>\n",
       "      <td>7a8e18da55a32ca69917</td>\n",
       "      <td>FEMALE</td>\n",
       "      <td>1928-01-01</td>\n",
       "      <td>2022-09-30</td>\n",
       "      <td>GLUCOSE</td>\n",
       "      <td>8.4</td>\n",
       "    </tr>\n",
       "    <tr>\n",
       "      <th>42295994</th>\n",
       "      <td>7a8e18da55a32ca69917</td>\n",
       "      <td>FEMALE</td>\n",
       "      <td>1928-01-01</td>\n",
       "      <td>2022-09-30</td>\n",
       "      <td>POTASSIUM</td>\n",
       "      <td>4.0</td>\n",
       "    </tr>\n",
       "    <tr>\n",
       "      <th>42295995</th>\n",
       "      <td>7a8e18da55a32ca69917</td>\n",
       "      <td>FEMALE</td>\n",
       "      <td>1928-01-01</td>\n",
       "      <td>2022-09-30</td>\n",
       "      <td>SODIUM</td>\n",
       "      <td>130</td>\n",
       "    </tr>\n",
       "    <tr>\n",
       "      <th>42295996</th>\n",
       "      <td>7a8e18da55a32ca69917</td>\n",
       "      <td>FEMALE</td>\n",
       "      <td>1928-01-01</td>\n",
       "      <td>2022-09-30</td>\n",
       "      <td>UREA</td>\n",
       "      <td>9.9</td>\n",
       "    </tr>\n",
       "    <tr>\n",
       "      <th>42295997</th>\n",
       "      <td>7a8e18da55a32ca69917</td>\n",
       "      <td>FEMALE</td>\n",
       "      <td>1928-01-01</td>\n",
       "      <td>2022-09-30</td>\n",
       "      <td>GLUCOSE,POCT</td>\n",
       "      <td>5.6</td>\n",
       "    </tr>\n",
       "  </tbody>\n",
       "</table>\n",
       "<p>42295998 rows × 6 columns</p>\n",
       "</div>"
      ],
      "text/plain": [
       "                    Patient ID  Gender Date of Birth Specimen Received Date  \\\n",
       "0         7f7a4ad5417e81870f61  FEMALE    1948-05-01             2015-11-07   \n",
       "1         7f7a4ad5417e81870f61  FEMALE    1948-05-01             2015-11-07   \n",
       "2         7f7a4ad5417e81870f61  FEMALE    1948-05-01             2015-11-07   \n",
       "3         7f7a4ad5417e81870f61  FEMALE    1948-05-01             2015-11-07   \n",
       "4         7f7a4ad5417e81870f61  FEMALE    1948-05-01             2015-11-07   \n",
       "...                        ...     ...           ...                    ...   \n",
       "42295993  7a8e18da55a32ca69917  FEMALE    1928-01-01             2022-09-30   \n",
       "42295994  7a8e18da55a32ca69917  FEMALE    1928-01-01             2022-09-30   \n",
       "42295995  7a8e18da55a32ca69917  FEMALE    1928-01-01             2022-09-30   \n",
       "42295996  7a8e18da55a32ca69917  FEMALE    1928-01-01             2022-09-30   \n",
       "42295997  7a8e18da55a32ca69917  FEMALE    1928-01-01             2022-09-30   \n",
       "\n",
       "         Lab Resulted Order Test Description Result Value  \n",
       "0                                    CA 19-9          120  \n",
       "1                                BICARBONATE         22.6  \n",
       "2                                   CHLORIDE          101  \n",
       "3                                 CREATININE           61  \n",
       "4                                    GLUCOSE          7.6  \n",
       "...                                      ...          ...  \n",
       "42295993                             GLUCOSE          8.4  \n",
       "42295994                           POTASSIUM          4.0  \n",
       "42295995                              SODIUM          130  \n",
       "42295996                                UREA          9.9  \n",
       "42295997                        GLUCOSE,POCT          5.6  \n",
       "\n",
       "[42295998 rows x 6 columns]"
      ]
     },
     "execution_count": 65,
     "metadata": {},
     "output_type": "execute_result"
    }
   ],
   "source": [
    "labs_df"
   ]
  },
  {
   "cell_type": "markdown",
   "id": "cf84510b",
   "metadata": {},
   "source": [
    "## Lab test exploration"
   ]
  },
  {
   "cell_type": "code",
   "execution_count": null,
   "id": "5185a95c",
   "metadata": {},
   "outputs": [],
   "source": [
    "labs_path = os.path.join(OUTPUT_DIR, \"labs_2015-2022.pkl\")\n",
    "labs_df = pd.read_pickle(labs_path)"
   ]
  },
  {
   "cell_type": "code",
   "execution_count": 74,
   "id": "65b21c84",
   "metadata": {},
   "outputs": [],
   "source": [
    "glucose_mask = labs_df[FIELD[\"TEST_NAME\"]].str.contains(\"glucose\", case=False, na=False) & labs_df[FIELD[\"TEST_NAME\"]].str.contains(\"fasting\", case=False, na=False)"
   ]
  },
  {
   "cell_type": "code",
   "execution_count": 79,
   "id": "bc9e4e79",
   "metadata": {},
   "outputs": [],
   "source": [
    "ldl_mask = labs_df[FIELD[\"TEST_NAME\"]].str.contains(\"ldl\", case=False, na=False) # "
   ]
  },
  {
   "cell_type": "code",
   "execution_count": 76,
   "id": "0a6017db",
   "metadata": {},
   "outputs": [],
   "source": [
    "fasting_glucose = labs_df[mask]"
   ]
  },
  {
   "cell_type": "code",
   "execution_count": 78,
   "id": "85cd8b4b",
   "metadata": {},
   "outputs": [
    {
     "data": {
      "text/plain": [
       "array(['GLUCOSE,PLASMA FASTING', 'GLUCOSE FASTING'], dtype=object)"
      ]
     },
     "execution_count": 78,
     "metadata": {},
     "output_type": "execute_result"
    }
   ],
   "source": [
    "fasting_glucose[FIELD[\"TEST_NAME\"]].unique()"
   ]
  },
  {
   "cell_type": "code",
   "execution_count": 80,
   "id": "376886da",
   "metadata": {},
   "outputs": [],
   "source": [
    "ldl = labs_df[ldl_mask]"
   ]
  },
  {
   "cell_type": "code",
   "execution_count": 81,
   "id": "0568dd4b",
   "metadata": {},
   "outputs": [
    {
     "data": {
      "text/plain": [
       "array(['LDL-CHOLESTEROL,CALCULATED', 'CHOLESTEROL,TG,HDL,LDL',\n",
       "       'LDL-CHOLESTEROL,DIRECT'], dtype=object)"
      ]
     },
     "execution_count": 81,
     "metadata": {},
     "output_type": "execute_result"
    }
   ],
   "source": [
    "ldl[FIELD[\"TEST_NAME\"]].unique()"
   ]
  },
  {
   "cell_type": "code",
   "execution_count": 85,
   "id": "cf2ba3b1",
   "metadata": {},
   "outputs": [
    {
     "data": {
      "text/plain": [
       "array([nan], dtype=object)"
      ]
     },
     "execution_count": 85,
     "metadata": {},
     "output_type": "execute_result"
    }
   ],
   "source": [
    "test = ldl[ldl[FIELD[\"TEST_NAME\"]]==\"CHOLESTEROL,TG,HDL,LDL\"]\n",
    "test[FIELD[\"RESULT\"]].unique()"
   ]
  },
  {
   "cell_type": "code",
   "execution_count": 86,
   "id": "b1c9124a",
   "metadata": {},
   "outputs": [
    {
     "data": {
      "text/html": [
       "<div>\n",
       "<style scoped>\n",
       "    .dataframe tbody tr th:only-of-type {\n",
       "        vertical-align: middle;\n",
       "    }\n",
       "\n",
       "    .dataframe tbody tr th {\n",
       "        vertical-align: top;\n",
       "    }\n",
       "\n",
       "    .dataframe thead th {\n",
       "        text-align: right;\n",
       "    }\n",
       "</style>\n",
       "<table border=\"1\" class=\"dataframe\">\n",
       "  <thead>\n",
       "    <tr style=\"text-align: right;\">\n",
       "      <th></th>\n",
       "      <th>Patient ID</th>\n",
       "      <th>Gender</th>\n",
       "      <th>Date of Birth</th>\n",
       "      <th>Specimen Received Date</th>\n",
       "      <th>Lab Resulted Order Test Description</th>\n",
       "      <th>Result Value</th>\n",
       "    </tr>\n",
       "  </thead>\n",
       "  <tbody>\n",
       "    <tr>\n",
       "      <th>2819</th>\n",
       "      <td>933608e368815cc46896</td>\n",
       "      <td>MALE</td>\n",
       "      <td>1988-01-01</td>\n",
       "      <td>2015-12-02</td>\n",
       "      <td>TRIGLYCERIDES</td>\n",
       "      <td>1.99</td>\n",
       "    </tr>\n",
       "    <tr>\n",
       "      <th>5002</th>\n",
       "      <td>43865135afb39167c7b6</td>\n",
       "      <td>FEMALE</td>\n",
       "      <td>1950-08-01</td>\n",
       "      <td>2015-11-29</td>\n",
       "      <td>TRIGLYCERIDES</td>\n",
       "      <td>2.37</td>\n",
       "    </tr>\n",
       "    <tr>\n",
       "      <th>5127</th>\n",
       "      <td>8fac02779c8f35d03a19</td>\n",
       "      <td>FEMALE</td>\n",
       "      <td>1950-04-01</td>\n",
       "      <td>2015-12-01</td>\n",
       "      <td>TRIGLYCERIDES</td>\n",
       "      <td>0.96</td>\n",
       "    </tr>\n",
       "    <tr>\n",
       "      <th>5374</th>\n",
       "      <td>fd942746204678bc2b27</td>\n",
       "      <td>MALE</td>\n",
       "      <td>1992-03-01</td>\n",
       "      <td>2015-11-05</td>\n",
       "      <td>TRIGLYCERIDES</td>\n",
       "      <td>0.61</td>\n",
       "    </tr>\n",
       "    <tr>\n",
       "      <th>6696</th>\n",
       "      <td>0e9d0d2794f14ab8995c</td>\n",
       "      <td>MALE</td>\n",
       "      <td>1978-04-01</td>\n",
       "      <td>2015-11-28</td>\n",
       "      <td>TRIGLYCERIDES</td>\n",
       "      <td>1.75</td>\n",
       "    </tr>\n",
       "    <tr>\n",
       "      <th>...</th>\n",
       "      <td>...</td>\n",
       "      <td>...</td>\n",
       "      <td>...</td>\n",
       "      <td>...</td>\n",
       "      <td>...</td>\n",
       "      <td>...</td>\n",
       "    </tr>\n",
       "    <tr>\n",
       "      <th>42290350</th>\n",
       "      <td>f2e95d47f7e2f7211507</td>\n",
       "      <td>FEMALE</td>\n",
       "      <td>1946-07-01</td>\n",
       "      <td>2022-09-21</td>\n",
       "      <td>TRIGLYCERIDES</td>\n",
       "      <td>1.44</td>\n",
       "    </tr>\n",
       "    <tr>\n",
       "      <th>42291821</th>\n",
       "      <td>0cf707bc69dca7f313af</td>\n",
       "      <td>MALE</td>\n",
       "      <td>1935-04-01</td>\n",
       "      <td>2022-09-22</td>\n",
       "      <td>TRIGLYCERIDES</td>\n",
       "      <td>0.80</td>\n",
       "    </tr>\n",
       "    <tr>\n",
       "      <th>42293177</th>\n",
       "      <td>df5120b92e704b35276b</td>\n",
       "      <td>MALE</td>\n",
       "      <td>1944-06-01</td>\n",
       "      <td>2022-09-10</td>\n",
       "      <td>TRIGLYCERIDES</td>\n",
       "      <td>1.03</td>\n",
       "    </tr>\n",
       "    <tr>\n",
       "      <th>42294327</th>\n",
       "      <td>0ba5e7c518f71f9fe6ac</td>\n",
       "      <td>FEMALE</td>\n",
       "      <td>1932-08-01</td>\n",
       "      <td>2022-09-27</td>\n",
       "      <td>TRIGLYCERIDES</td>\n",
       "      <td>0.66</td>\n",
       "    </tr>\n",
       "    <tr>\n",
       "      <th>42295179</th>\n",
       "      <td>dccd5ee362ce9d9a2638</td>\n",
       "      <td>FEMALE</td>\n",
       "      <td>1933-11-01</td>\n",
       "      <td>2022-09-08</td>\n",
       "      <td>TRIGLYCERIDES</td>\n",
       "      <td>1.96</td>\n",
       "    </tr>\n",
       "  </tbody>\n",
       "</table>\n",
       "<p>51198 rows × 6 columns</p>\n",
       "</div>"
      ],
      "text/plain": [
       "                    Patient ID  Gender Date of Birth Specimen Received Date  \\\n",
       "2819      933608e368815cc46896    MALE    1988-01-01             2015-12-02   \n",
       "5002      43865135afb39167c7b6  FEMALE    1950-08-01             2015-11-29   \n",
       "5127      8fac02779c8f35d03a19  FEMALE    1950-04-01             2015-12-01   \n",
       "5374      fd942746204678bc2b27    MALE    1992-03-01             2015-11-05   \n",
       "6696      0e9d0d2794f14ab8995c    MALE    1978-04-01             2015-11-28   \n",
       "...                        ...     ...           ...                    ...   \n",
       "42290350  f2e95d47f7e2f7211507  FEMALE    1946-07-01             2022-09-21   \n",
       "42291821  0cf707bc69dca7f313af    MALE    1935-04-01             2022-09-22   \n",
       "42293177  df5120b92e704b35276b    MALE    1944-06-01             2022-09-10   \n",
       "42294327  0ba5e7c518f71f9fe6ac  FEMALE    1932-08-01             2022-09-27   \n",
       "42295179  dccd5ee362ce9d9a2638  FEMALE    1933-11-01             2022-09-08   \n",
       "\n",
       "         Lab Resulted Order Test Description Result Value  \n",
       "2819                           TRIGLYCERIDES         1.99  \n",
       "5002                           TRIGLYCERIDES         2.37  \n",
       "5127                           TRIGLYCERIDES         0.96  \n",
       "5374                           TRIGLYCERIDES         0.61  \n",
       "6696                           TRIGLYCERIDES         1.75  \n",
       "...                                      ...          ...  \n",
       "42290350                       TRIGLYCERIDES         1.44  \n",
       "42291821                       TRIGLYCERIDES         0.80  \n",
       "42293177                       TRIGLYCERIDES         1.03  \n",
       "42294327                       TRIGLYCERIDES         0.66  \n",
       "42295179                       TRIGLYCERIDES         1.96  \n",
       "\n",
       "[51198 rows x 6 columns]"
      ]
     },
     "execution_count": 86,
     "metadata": {},
     "output_type": "execute_result"
    }
   ],
   "source": [
    "labs_df[labs_df[FIELD[\"TEST_NAME\"]].str.contains(\"triglycerides\", case=False, na=False)]"
   ]
  },
  {
   "cell_type": "markdown",
   "id": "41bc201e",
   "metadata": {},
   "source": [
    "## Lab test filtering"
   ]
  },
  {
   "cell_type": "code",
   "execution_count": 90,
   "id": "e4513e46",
   "metadata": {},
   "outputs": [],
   "source": [
    "glucose_mask = labs_df[FIELD[\"TEST_NAME\"]].str.contains(\"glucose\", case=False, na=False) & labs_df[FIELD[\"TEST_NAME\"]].str.contains(\"fasting\", case=False, na=False)\n",
    "other_tests_mask = labs_df[FIELD[\"TEST_NAME\"]].str.contains('HBA1C|TRIGLYCERIDES|LDL-CHOLESTEROL,CALCULATED', case=False, na=False)"
   ]
  },
  {
   "cell_type": "code",
   "execution_count": 92,
   "id": "c19925d7",
   "metadata": {},
   "outputs": [],
   "source": [
    "filtered_labs_df = labs_df\n",
    "filtered_labs_df['Lab Resulted Order Test Description'] = labs_df['Lab Resulted Order Test Description'].str.replace('GLUCOSE,PLASMA FASTING', 'GLUCOSE FASTING', case=False, regex=True)\n",
    "filtered_labs_df = filtered_labs_df[filtered_labs_df['Lab Resulted Order Test Description'].str.contains('HBA1C|TRIGLYCERIDES|LDL-CHOLESTEROL,CALCULATED|GLUCOSE FASTING', case=False, na=False)]"
   ]
  },
  {
   "cell_type": "code",
   "execution_count": 97,
   "id": "05f9ca93",
   "metadata": {},
   "outputs": [],
   "source": [
    "filtered_labs_df.to_csv(os.path.join(OUTPUT_DIR, \"filtered_labs.csv\"), index=False)"
   ]
  },
  {
   "cell_type": "markdown",
   "id": "ad762471",
   "metadata": {},
   "source": [
    "## Counting number of tests for within start (DM dx date) and end (Cancer dx date)"
   ]
  },
  {
   "cell_type": "code",
   "execution_count": 100,
   "id": "c6d5c1fa",
   "metadata": {},
   "outputs": [
    {
     "data": {
      "text/plain": [
       "array(['HBA1C', 'GLUCOSE FASTING', 'LDL-CHOLESTEROL,CALCULATED',\n",
       "       'TRIGLYCERIDES', 'TRIGLYCERIDES,FLUID', 'TRIGLYCERIDES,URINE',\n",
       "       'HBA1C IFCC', 'HBA1c, blood (dual reporting)'], dtype=object)"
      ]
     },
     "execution_count": 100,
     "metadata": {},
     "output_type": "execute_result"
    }
   ],
   "source": [
    "filtered_labs_df[FIELD[\"TEST_NAME\"]].unique()"
   ]
  },
  {
   "cell_type": "code",
   "execution_count": 102,
   "id": "1dbfdad0",
   "metadata": {},
   "outputs": [],
   "source": [
    "tests = {\n",
    "    \"Fasting Glucose\": \"glucose\",\n",
    "    \"HbA1c\": \"hba1c\",\n",
    "    \"Triglycerides\": \"triglycerides\",\n",
    "    \"LDL\": \"ldl\"\n",
    "}"
   ]
  },
  {
   "cell_type": "code",
   "execution_count": 98,
   "id": "2510ecab",
   "metadata": {},
   "outputs": [],
   "source": [
    "def get_DM_dx(df):\n",
    "    # Determine if currently has diabetes\n",
    "    is_diabetic = True\n",
    "    \n",
    "    # Determine if there are values to be excluded if there is a DM date within the lab values\n",
    "    sorted_df = df.sort_values(by=FIELD[\"DATE\"])\n",
    "    DM_dx_dt = df[FIELD[\"DATE\"]].iloc[0]\n",
    "    return is_diabetic, DM_dx_dt"
   ]
  },
  {
   "cell_type": "code",
   "execution_count": 105,
   "id": "cb05e82c",
   "metadata": {},
   "outputs": [],
   "source": [
    "result = {\n",
    "        \"meets_criteria\": True\n",
    "    }\n",
    "    \n",
    "for key in tests:\n",
    "    result.update({key: [], key + \" Dates\": []})"
   ]
  },
  {
   "cell_type": "code",
   "execution_count": 106,
   "id": "5653103c",
   "metadata": {},
   "outputs": [
    {
     "data": {
      "text/plain": [
       "{'meets_criteria': True,\n",
       " 'Fasting Glucose': [],\n",
       " 'Fasting Glucose Dates': [],\n",
       " 'HbA1c': [],\n",
       " 'HbA1c Dates': [],\n",
       " 'Triglycerides': [],\n",
       " 'Triglycerides Dates': [],\n",
       " 'LDL': [],\n",
       " 'LDL Dates': []}"
      ]
     },
     "execution_count": 106,
     "metadata": {},
     "output_type": "execute_result"
    }
   ],
   "source": [
    "result"
   ]
  },
  {
   "cell_type": "code",
   "execution_count": 99,
   "id": "eee64fcb",
   "metadata": {},
   "outputs": [],
   "source": [
    "def get_cancer_dx(df):\n",
    "    cancers = []\n",
    "    dts = []\n",
    "    return cancers, dts"
   ]
  },
  {
   "cell_type": "code",
   "execution_count": null,
   "id": "e8a1db05",
   "metadata": {},
   "outputs": [],
   "source": [
    "def agg_pt_details(grp):\n",
    "    # Initialise dict\n",
    "    result = {\"meets_criteria\": True, \n",
    "              \"CANCER\": [],\n",
    "              \"CANCER Date\": []}\n",
    "    for key in tests():\n",
    "        result.update({key: [], key + \" Dates\": []})\n",
    "    \n",
    "    # Check for diabetes, return if no diabetes\n",
    "    is_diabetic, DM_dx_dt = get_DM_dx(grp)\n",
    "    if is_diabetic is False:\n",
    "        result[\"meets_criteria\"] = False\n",
    "        return pd.Series(result)\n",
    "\n",
    "    # Check for cancer\n",
    "    cancers, cancer_dts = get_cancer_dx(df)\n",
    "    earliest_cancer_dt = None\n",
    "    if (cancer_dts.len > 0):\n",
    "        earliest_cancer_dt = sorted(cancer_dt)[0]\n",
    " \n",
    "    # Extract tests within given window\n",
    "    for key, val in tests.items():\n",
    "        result.update({key: [], key + \" Dates\": []})\n",
    "        \n",
    "    end_dt = "
   ]
  },
  {
   "cell_type": "code",
   "execution_count": null,
   "id": "b264f434",
   "metadata": {},
   "outputs": [],
   "source": [
    "pt_df = filtered_labs_df.groupby([FIELD[\"ID\"]]).apply(agg_pt_details)"
   ]
  },
  {
   "cell_type": "markdown",
   "id": "2e16be83",
   "metadata": {},
   "source": [
    "## Load and filter diagnosis data"
   ]
  },
  {
   "cell_type": "code",
   "execution_count": 67,
   "id": "ebbb207d",
   "metadata": {},
   "outputs": [],
   "source": [
    "usecols = []\n",
    "diag_df = pd.DataFrame()"
   ]
  },
  {
   "cell_type": "code",
   "execution_count": 68,
   "id": "194e2cf0",
   "metadata": {},
   "outputs": [
    {
     "ename": "ValueError",
     "evalue": "Usecols do not match columns, columns expected but not found: ['Lab Resulted Order Test Description', 'Specimen Received Date', 'Result Value']",
     "output_type": "error",
     "traceback": [
      "\u001b[0;31m---------------------------------------------------------------------------\u001b[0m",
      "\u001b[0;31mValueError\u001b[0m                                Traceback (most recent call last)",
      "Cell \u001b[0;32mIn[68], line 1\u001b[0m\n\u001b[0;32m----> 1\u001b[0m diag_df \u001b[38;5;241m=\u001b[39m \u001b[43maggregate_csvs\u001b[49m\u001b[43m(\u001b[49m\u001b[43mos\u001b[49m\u001b[38;5;241;43m.\u001b[39;49m\u001b[43mpath\u001b[49m\u001b[38;5;241;43m.\u001b[39;49m\u001b[43mjoin\u001b[49m\u001b[43m(\u001b[49m\u001b[43mHOME_DIR\u001b[49m\u001b[43m,\u001b[49m\u001b[43m \u001b[49m\u001b[38;5;124;43m\"\u001b[39;49m\u001b[38;5;124;43melpha-data/diagnosis\u001b[39;49m\u001b[38;5;124;43m\"\u001b[39;49m\u001b[43m,\u001b[49m\u001b[43m \u001b[49m\u001b[38;5;124;43m\"\u001b[39;49m\u001b[38;5;124;43m*.csv\u001b[39;49m\u001b[38;5;124;43m\"\u001b[39;49m\u001b[43m)\u001b[49m\u001b[43m,\u001b[49m\u001b[43m \u001b[49m\u001b[43mdiag_df\u001b[49m\u001b[43m,\u001b[49m\u001b[43m \u001b[49m\u001b[43musecols\u001b[49m\u001b[43m)\u001b[49m\n",
      "Cell \u001b[0;32mIn[47], line 9\u001b[0m, in \u001b[0;36maggregate_csvs\u001b[0;34m(input_dir, curr_df, usecols)\u001b[0m\n\u001b[1;32m      3\u001b[0m     df_list \u001b[38;5;241m=\u001b[39m []\n\u001b[1;32m      4\u001b[0m \u001b[38;5;66;03m#     for file in files:\u001b[39;00m\n\u001b[1;32m      5\u001b[0m \u001b[38;5;66;03m#         try:\u001b[39;00m\n\u001b[1;32m      6\u001b[0m \u001b[38;5;66;03m#             df_list.append(pd.read_csv(file, usecols=usecols))\u001b[39;00m\n\u001b[1;32m      7\u001b[0m \u001b[38;5;66;03m#         except:\u001b[39;00m\n\u001b[1;32m      8\u001b[0m \u001b[38;5;66;03m#             print(file)\u001b[39;00m\n\u001b[0;32m----> 9\u001b[0m     df_list \u001b[38;5;241m=\u001b[39m [pd\u001b[38;5;241m.\u001b[39mread_csv(file, usecols\u001b[38;5;241m=\u001b[39musecols) \u001b[38;5;28;01mfor\u001b[39;00m file \u001b[38;5;129;01min\u001b[39;00m files]\n\u001b[1;32m     10\u001b[0m     df_all  \u001b[38;5;241m=\u001b[39m pd\u001b[38;5;241m.\u001b[39mconcat([curr_df, \u001b[38;5;241m*\u001b[39mdf_list], ignore_index\u001b[38;5;241m=\u001b[39m\u001b[38;5;28;01mTrue\u001b[39;00m)\n\u001b[1;32m     11\u001b[0m     \u001b[38;5;28;01mreturn\u001b[39;00m df_all\n",
      "Cell \u001b[0;32mIn[47], line 9\u001b[0m, in \u001b[0;36m<listcomp>\u001b[0;34m(.0)\u001b[0m\n\u001b[1;32m      3\u001b[0m     df_list \u001b[38;5;241m=\u001b[39m []\n\u001b[1;32m      4\u001b[0m \u001b[38;5;66;03m#     for file in files:\u001b[39;00m\n\u001b[1;32m      5\u001b[0m \u001b[38;5;66;03m#         try:\u001b[39;00m\n\u001b[1;32m      6\u001b[0m \u001b[38;5;66;03m#             df_list.append(pd.read_csv(file, usecols=usecols))\u001b[39;00m\n\u001b[1;32m      7\u001b[0m \u001b[38;5;66;03m#         except:\u001b[39;00m\n\u001b[1;32m      8\u001b[0m \u001b[38;5;66;03m#             print(file)\u001b[39;00m\n\u001b[0;32m----> 9\u001b[0m     df_list \u001b[38;5;241m=\u001b[39m [\u001b[43mpd\u001b[49m\u001b[38;5;241;43m.\u001b[39;49m\u001b[43mread_csv\u001b[49m\u001b[43m(\u001b[49m\u001b[43mfile\u001b[49m\u001b[43m,\u001b[49m\u001b[43m \u001b[49m\u001b[43musecols\u001b[49m\u001b[38;5;241;43m=\u001b[39;49m\u001b[43musecols\u001b[49m\u001b[43m)\u001b[49m \u001b[38;5;28;01mfor\u001b[39;00m file \u001b[38;5;129;01min\u001b[39;00m files]\n\u001b[1;32m     10\u001b[0m     df_all  \u001b[38;5;241m=\u001b[39m pd\u001b[38;5;241m.\u001b[39mconcat([curr_df, \u001b[38;5;241m*\u001b[39mdf_list], ignore_index\u001b[38;5;241m=\u001b[39m\u001b[38;5;28;01mTrue\u001b[39;00m)\n\u001b[1;32m     11\u001b[0m     \u001b[38;5;28;01mreturn\u001b[39;00m df_all\n",
      "File \u001b[0;32m/usr/local/lib/python3.10/dist-packages/pandas/util/_decorators.py:211\u001b[0m, in \u001b[0;36mdeprecate_kwarg.<locals>._deprecate_kwarg.<locals>.wrapper\u001b[0;34m(*args, **kwargs)\u001b[0m\n\u001b[1;32m    209\u001b[0m     \u001b[38;5;28;01melse\u001b[39;00m:\n\u001b[1;32m    210\u001b[0m         kwargs[new_arg_name] \u001b[38;5;241m=\u001b[39m new_arg_value\n\u001b[0;32m--> 211\u001b[0m \u001b[38;5;28;01mreturn\u001b[39;00m \u001b[43mfunc\u001b[49m\u001b[43m(\u001b[49m\u001b[38;5;241;43m*\u001b[39;49m\u001b[43margs\u001b[49m\u001b[43m,\u001b[49m\u001b[43m \u001b[49m\u001b[38;5;241;43m*\u001b[39;49m\u001b[38;5;241;43m*\u001b[39;49m\u001b[43mkwargs\u001b[49m\u001b[43m)\u001b[49m\n",
      "File \u001b[0;32m/usr/local/lib/python3.10/dist-packages/pandas/util/_decorators.py:331\u001b[0m, in \u001b[0;36mdeprecate_nonkeyword_arguments.<locals>.decorate.<locals>.wrapper\u001b[0;34m(*args, **kwargs)\u001b[0m\n\u001b[1;32m    325\u001b[0m \u001b[38;5;28;01mif\u001b[39;00m \u001b[38;5;28mlen\u001b[39m(args) \u001b[38;5;241m>\u001b[39m num_allow_args:\n\u001b[1;32m    326\u001b[0m     warnings\u001b[38;5;241m.\u001b[39mwarn(\n\u001b[1;32m    327\u001b[0m         msg\u001b[38;5;241m.\u001b[39mformat(arguments\u001b[38;5;241m=\u001b[39m_format_argument_list(allow_args)),\n\u001b[1;32m    328\u001b[0m         \u001b[38;5;167;01mFutureWarning\u001b[39;00m,\n\u001b[1;32m    329\u001b[0m         stacklevel\u001b[38;5;241m=\u001b[39mfind_stack_level(),\n\u001b[1;32m    330\u001b[0m     )\n\u001b[0;32m--> 331\u001b[0m \u001b[38;5;28;01mreturn\u001b[39;00m \u001b[43mfunc\u001b[49m\u001b[43m(\u001b[49m\u001b[38;5;241;43m*\u001b[39;49m\u001b[43margs\u001b[49m\u001b[43m,\u001b[49m\u001b[43m \u001b[49m\u001b[38;5;241;43m*\u001b[39;49m\u001b[38;5;241;43m*\u001b[39;49m\u001b[43mkwargs\u001b[49m\u001b[43m)\u001b[49m\n",
      "File \u001b[0;32m/usr/local/lib/python3.10/dist-packages/pandas/io/parsers/readers.py:950\u001b[0m, in \u001b[0;36mread_csv\u001b[0;34m(filepath_or_buffer, sep, delimiter, header, names, index_col, usecols, squeeze, prefix, mangle_dupe_cols, dtype, engine, converters, true_values, false_values, skipinitialspace, skiprows, skipfooter, nrows, na_values, keep_default_na, na_filter, verbose, skip_blank_lines, parse_dates, infer_datetime_format, keep_date_col, date_parser, dayfirst, cache_dates, iterator, chunksize, compression, thousands, decimal, lineterminator, quotechar, quoting, doublequote, escapechar, comment, encoding, encoding_errors, dialect, error_bad_lines, warn_bad_lines, on_bad_lines, delim_whitespace, low_memory, memory_map, float_precision, storage_options)\u001b[0m\n\u001b[1;32m    935\u001b[0m kwds_defaults \u001b[38;5;241m=\u001b[39m _refine_defaults_read(\n\u001b[1;32m    936\u001b[0m     dialect,\n\u001b[1;32m    937\u001b[0m     delimiter,\n\u001b[0;32m   (...)\u001b[0m\n\u001b[1;32m    946\u001b[0m     defaults\u001b[38;5;241m=\u001b[39m{\u001b[38;5;124m\"\u001b[39m\u001b[38;5;124mdelimiter\u001b[39m\u001b[38;5;124m\"\u001b[39m: \u001b[38;5;124m\"\u001b[39m\u001b[38;5;124m,\u001b[39m\u001b[38;5;124m\"\u001b[39m},\n\u001b[1;32m    947\u001b[0m )\n\u001b[1;32m    948\u001b[0m kwds\u001b[38;5;241m.\u001b[39mupdate(kwds_defaults)\n\u001b[0;32m--> 950\u001b[0m \u001b[38;5;28;01mreturn\u001b[39;00m \u001b[43m_read\u001b[49m\u001b[43m(\u001b[49m\u001b[43mfilepath_or_buffer\u001b[49m\u001b[43m,\u001b[49m\u001b[43m \u001b[49m\u001b[43mkwds\u001b[49m\u001b[43m)\u001b[49m\n",
      "File \u001b[0;32m/usr/local/lib/python3.10/dist-packages/pandas/io/parsers/readers.py:605\u001b[0m, in \u001b[0;36m_read\u001b[0;34m(filepath_or_buffer, kwds)\u001b[0m\n\u001b[1;32m    602\u001b[0m _validate_names(kwds\u001b[38;5;241m.\u001b[39mget(\u001b[38;5;124m\"\u001b[39m\u001b[38;5;124mnames\u001b[39m\u001b[38;5;124m\"\u001b[39m, \u001b[38;5;28;01mNone\u001b[39;00m))\n\u001b[1;32m    604\u001b[0m \u001b[38;5;66;03m# Create the parser.\u001b[39;00m\n\u001b[0;32m--> 605\u001b[0m parser \u001b[38;5;241m=\u001b[39m \u001b[43mTextFileReader\u001b[49m\u001b[43m(\u001b[49m\u001b[43mfilepath_or_buffer\u001b[49m\u001b[43m,\u001b[49m\u001b[43m \u001b[49m\u001b[38;5;241;43m*\u001b[39;49m\u001b[38;5;241;43m*\u001b[39;49m\u001b[43mkwds\u001b[49m\u001b[43m)\u001b[49m\n\u001b[1;32m    607\u001b[0m \u001b[38;5;28;01mif\u001b[39;00m chunksize \u001b[38;5;129;01mor\u001b[39;00m iterator:\n\u001b[1;32m    608\u001b[0m     \u001b[38;5;28;01mreturn\u001b[39;00m parser\n",
      "File \u001b[0;32m/usr/local/lib/python3.10/dist-packages/pandas/io/parsers/readers.py:1442\u001b[0m, in \u001b[0;36mTextFileReader.__init__\u001b[0;34m(self, f, engine, **kwds)\u001b[0m\n\u001b[1;32m   1439\u001b[0m     \u001b[38;5;28mself\u001b[39m\u001b[38;5;241m.\u001b[39moptions[\u001b[38;5;124m\"\u001b[39m\u001b[38;5;124mhas_index_names\u001b[39m\u001b[38;5;124m\"\u001b[39m] \u001b[38;5;241m=\u001b[39m kwds[\u001b[38;5;124m\"\u001b[39m\u001b[38;5;124mhas_index_names\u001b[39m\u001b[38;5;124m\"\u001b[39m]\n\u001b[1;32m   1441\u001b[0m \u001b[38;5;28mself\u001b[39m\u001b[38;5;241m.\u001b[39mhandles: IOHandles \u001b[38;5;241m|\u001b[39m \u001b[38;5;28;01mNone\u001b[39;00m \u001b[38;5;241m=\u001b[39m \u001b[38;5;28;01mNone\u001b[39;00m\n\u001b[0;32m-> 1442\u001b[0m \u001b[38;5;28mself\u001b[39m\u001b[38;5;241m.\u001b[39m_engine \u001b[38;5;241m=\u001b[39m \u001b[38;5;28;43mself\u001b[39;49m\u001b[38;5;241;43m.\u001b[39;49m\u001b[43m_make_engine\u001b[49m\u001b[43m(\u001b[49m\u001b[43mf\u001b[49m\u001b[43m,\u001b[49m\u001b[43m \u001b[49m\u001b[38;5;28;43mself\u001b[39;49m\u001b[38;5;241;43m.\u001b[39;49m\u001b[43mengine\u001b[49m\u001b[43m)\u001b[49m\n",
      "File \u001b[0;32m/usr/local/lib/python3.10/dist-packages/pandas/io/parsers/readers.py:1753\u001b[0m, in \u001b[0;36mTextFileReader._make_engine\u001b[0;34m(self, f, engine)\u001b[0m\n\u001b[1;32m   1750\u001b[0m     \u001b[38;5;28;01mraise\u001b[39;00m \u001b[38;5;167;01mValueError\u001b[39;00m(msg)\n\u001b[1;32m   1752\u001b[0m \u001b[38;5;28;01mtry\u001b[39;00m:\n\u001b[0;32m-> 1753\u001b[0m     \u001b[38;5;28;01mreturn\u001b[39;00m \u001b[43mmapping\u001b[49m\u001b[43m[\u001b[49m\u001b[43mengine\u001b[49m\u001b[43m]\u001b[49m\u001b[43m(\u001b[49m\u001b[43mf\u001b[49m\u001b[43m,\u001b[49m\u001b[43m \u001b[49m\u001b[38;5;241;43m*\u001b[39;49m\u001b[38;5;241;43m*\u001b[39;49m\u001b[38;5;28;43mself\u001b[39;49m\u001b[38;5;241;43m.\u001b[39;49m\u001b[43moptions\u001b[49m\u001b[43m)\u001b[49m\n\u001b[1;32m   1754\u001b[0m \u001b[38;5;28;01mexcept\u001b[39;00m \u001b[38;5;167;01mException\u001b[39;00m:\n\u001b[1;32m   1755\u001b[0m     \u001b[38;5;28;01mif\u001b[39;00m \u001b[38;5;28mself\u001b[39m\u001b[38;5;241m.\u001b[39mhandles \u001b[38;5;129;01mis\u001b[39;00m \u001b[38;5;129;01mnot\u001b[39;00m \u001b[38;5;28;01mNone\u001b[39;00m:\n",
      "File \u001b[0;32m/usr/local/lib/python3.10/dist-packages/pandas/io/parsers/c_parser_wrapper.py:135\u001b[0m, in \u001b[0;36mCParserWrapper.__init__\u001b[0;34m(self, src, **kwds)\u001b[0m\n\u001b[1;32m    131\u001b[0m \u001b[38;5;28;01massert\u001b[39;00m \u001b[38;5;28mself\u001b[39m\u001b[38;5;241m.\u001b[39morig_names \u001b[38;5;129;01mis\u001b[39;00m \u001b[38;5;129;01mnot\u001b[39;00m \u001b[38;5;28;01mNone\u001b[39;00m\n\u001b[1;32m    132\u001b[0m \u001b[38;5;28;01mif\u001b[39;00m \u001b[38;5;28mself\u001b[39m\u001b[38;5;241m.\u001b[39musecols_dtype \u001b[38;5;241m==\u001b[39m \u001b[38;5;124m\"\u001b[39m\u001b[38;5;124mstring\u001b[39m\u001b[38;5;124m\"\u001b[39m \u001b[38;5;129;01mand\u001b[39;00m \u001b[38;5;129;01mnot\u001b[39;00m \u001b[38;5;28mset\u001b[39m(usecols)\u001b[38;5;241m.\u001b[39missubset(\n\u001b[1;32m    133\u001b[0m     \u001b[38;5;28mself\u001b[39m\u001b[38;5;241m.\u001b[39morig_names\n\u001b[1;32m    134\u001b[0m ):\n\u001b[0;32m--> 135\u001b[0m     \u001b[38;5;28;43mself\u001b[39;49m\u001b[38;5;241;43m.\u001b[39;49m\u001b[43m_validate_usecols_names\u001b[49m\u001b[43m(\u001b[49m\u001b[43musecols\u001b[49m\u001b[43m,\u001b[49m\u001b[43m \u001b[49m\u001b[38;5;28;43mself\u001b[39;49m\u001b[38;5;241;43m.\u001b[39;49m\u001b[43morig_names\u001b[49m\u001b[43m)\u001b[49m\n\u001b[1;32m    137\u001b[0m \u001b[38;5;66;03m# error: Cannot determine type of 'names'\u001b[39;00m\n\u001b[1;32m    138\u001b[0m \u001b[38;5;28;01mif\u001b[39;00m \u001b[38;5;28mlen\u001b[39m(\u001b[38;5;28mself\u001b[39m\u001b[38;5;241m.\u001b[39mnames) \u001b[38;5;241m>\u001b[39m \u001b[38;5;28mlen\u001b[39m(usecols):  \u001b[38;5;66;03m# type: ignore[has-type]\u001b[39;00m\n\u001b[1;32m    139\u001b[0m     \u001b[38;5;66;03m# error: Cannot determine type of 'names'\u001b[39;00m\n",
      "File \u001b[0;32m/usr/local/lib/python3.10/dist-packages/pandas/io/parsers/base_parser.py:917\u001b[0m, in \u001b[0;36mParserBase._validate_usecols_names\u001b[0;34m(self, usecols, names)\u001b[0m\n\u001b[1;32m    915\u001b[0m missing \u001b[38;5;241m=\u001b[39m [c \u001b[38;5;28;01mfor\u001b[39;00m c \u001b[38;5;129;01min\u001b[39;00m usecols \u001b[38;5;28;01mif\u001b[39;00m c \u001b[38;5;129;01mnot\u001b[39;00m \u001b[38;5;129;01min\u001b[39;00m names]\n\u001b[1;32m    916\u001b[0m \u001b[38;5;28;01mif\u001b[39;00m \u001b[38;5;28mlen\u001b[39m(missing) \u001b[38;5;241m>\u001b[39m \u001b[38;5;241m0\u001b[39m:\n\u001b[0;32m--> 917\u001b[0m     \u001b[38;5;28;01mraise\u001b[39;00m \u001b[38;5;167;01mValueError\u001b[39;00m(\n\u001b[1;32m    918\u001b[0m         \u001b[38;5;124mf\u001b[39m\u001b[38;5;124m\"\u001b[39m\u001b[38;5;124mUsecols do not match columns, columns expected but not found: \u001b[39m\u001b[38;5;124m\"\u001b[39m\n\u001b[1;32m    919\u001b[0m         \u001b[38;5;124mf\u001b[39m\u001b[38;5;124m\"\u001b[39m\u001b[38;5;132;01m{\u001b[39;00mmissing\u001b[38;5;132;01m}\u001b[39;00m\u001b[38;5;124m\"\u001b[39m\n\u001b[1;32m    920\u001b[0m     )\n\u001b[1;32m    922\u001b[0m \u001b[38;5;28;01mreturn\u001b[39;00m usecols\n",
      "\u001b[0;31mValueError\u001b[0m: Usecols do not match columns, columns expected but not found: ['Lab Resulted Order Test Description', 'Specimen Received Date', 'Result Value']"
     ]
    }
   ],
   "source": [
    "diag_df = aggregate_csvs(os.path.join(HOME_DIR, \"elpha-data/diagnosis\", \"*.csv\"), diag_df, usecols)"
   ]
  },
  {
   "cell_type": "code",
   "execution_count": null,
   "id": "2e24d5be",
   "metadata": {},
   "outputs": [],
   "source": []
  }
 ],
 "metadata": {
  "kernelspec": {
   "display_name": "Python 3 (ipykernel)",
   "language": "python",
   "name": "python3"
  },
  "language_info": {
   "codemirror_mode": {
    "name": "ipython",
    "version": 3
   },
   "file_extension": ".py",
   "mimetype": "text/x-python",
   "name": "python",
   "nbconvert_exporter": "python",
   "pygments_lexer": "ipython3",
   "version": "3.10.6"
  }
 },
 "nbformat": 4,
 "nbformat_minor": 5
}
