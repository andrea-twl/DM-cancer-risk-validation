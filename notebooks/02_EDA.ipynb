{
 "cells": [
  {
   "cell_type": "code",
   "execution_count": null,
   "id": "ca062428",
   "metadata": {},
   "outputs": [],
   "source": [
    "import sys\n",
    "import pandas as pd\n",
    "import numpy as np\n",
    "from glob import glob\n",
    "import os\n",
    "from types import SimpleNamespace\n",
    "\n",
    "REPO_DIR = os.path.abspath(\"..\")\n",
    "sys.path.append(REPO_DIR)\n",
    "\n",
    "import utils.data_utils as data_utils\n",
    "import utils.PATHS as PATHS"
   ]
  },
  {
   "cell_type": "code",
   "execution_count": null,
   "id": "7b973da0",
   "metadata": {},
   "outputs": [],
   "source": [
    "LAB_FIELDS = SimpleNamespace(**data_utils.LAB_FIELDS)\n",
    "DIAG_FIELDS = SimpleNamespace(**data_utils.DIAG_FIELDS)"
   ]
  },
  {
   "cell_type": "code",
   "execution_count": null,
   "id": "1fe3ce0a",
   "metadata": {},
   "outputs": [],
   "source": [
    "# Load data\n",
    "labs_df = pd.read_csv(os.path.join(PATHS.OUTPUT_DIR, \"labs_2015-2022.pkl\"))\n",
    "diag_df = pd.read_csv(os.path.join(PATHS.OUTPUT_DIR, \"diag.csv\"))"
   ]
  },
  {
   "cell_type": "code",
   "execution_count": null,
   "id": "76f94f0a",
   "metadata": {},
   "outputs": [],
   "source": [
    "# range of lab tests that contain key words, test missingness "
   ]
  },
  {
   "cell_type": "markdown",
   "id": "04f74c4a",
   "metadata": {},
   "source": [
    "# Lab test exploration"
   ]
  },
  {
   "cell_type": "code",
   "execution_count": null,
   "id": "fa3b99fa",
   "metadata": {},
   "outputs": [],
   "source": [
    "glucose_mask = labs_df[FIELD[\"TEST_NAME\"]].str.contains(\"glucose\", case=False, na=False) & labs_df[FIELD[\"TEST_NAME\"]].str.contains(\"fasting\", case=False, na=False)"
   ]
  },
  {
   "cell_type": "code",
   "execution_count": null,
   "id": "7b926a38",
   "metadata": {},
   "outputs": [],
   "source": [
    "ldl_mask = labs_df[FIELD[\"TEST_NAME\"]].str.contains(\"ldl\", case=False, na=False) # "
   ]
  },
  {
   "cell_type": "code",
   "execution_count": null,
   "id": "0da7bac0",
   "metadata": {},
   "outputs": [],
   "source": [
    "fasting_glucose = labs_df[glucose_mask]"
   ]
  },
  {
   "cell_type": "code",
   "execution_count": null,
   "id": "2b459756",
   "metadata": {},
   "outputs": [],
   "source": [
    "fasting_glucose[FIELD[\"TEST_NAME\"]].unique()"
   ]
  },
  {
   "cell_type": "code",
   "execution_count": null,
   "id": "f574296f",
   "metadata": {},
   "outputs": [],
   "source": [
    "ldl = labs_df[ldl_mask]"
   ]
  },
  {
   "cell_type": "code",
   "execution_count": null,
   "id": "4f3c05a6",
   "metadata": {},
   "outputs": [],
   "source": [
    "ldl[FIELD[\"TEST_NAME\"]].unique()"
   ]
  },
  {
   "cell_type": "markdown",
   "id": "5a6caebb",
   "metadata": {},
   "source": [
    "# Lab test filtering"
   ]
  },
  {
   "cell_type": "code",
   "execution_count": null,
   "id": "0d0c55e7",
   "metadata": {},
   "outputs": [],
   "source": [
    "glucose_mask = labs_df[FIELD[\"TEST_NAME\"]].str.contains(\"glucose\", case=False, na=False) & labs_df[FIELD[\"TEST_NAME\"]].str.contains(\"fasting\", case=False, na=False)\n",
    "other_tests_mask = labs_df[FIELD[\"TEST_NAME\"]].str.contains('HBA1C|TRIGLYCERIDES|LDL-CHOLESTEROL,CALCULATED|LDL-CHOLESTEROL,DIRECT', case=False, na=False)"
   ]
  },
  {
   "cell_type": "code",
   "execution_count": null,
   "id": "f3a913ca",
   "metadata": {},
   "outputs": [],
   "source": [
    "filtered_labs_df = labs_df\n",
    "filtered_labs_df['Lab Resulted Order Test Description'] = labs_df['Lab Resulted Order Test Description'].str.replace('GLUCOSE,PLASMA FASTING', 'GLUCOSE FASTING', case=False, regex=True)\n",
    "filtered_labs_df = filtered_labs_df[filtered_labs_df['Lab Resulted Order Test Description'].str.contains('HBA1C|TRIGLYCERIDES|LDL-CHOLESTEROL,CALCULATED|LDL-CHOLESTEROL,DIRECT|GLUCOSE FASTING', case=False, na=False)]"
   ]
  },
  {
   "cell_type": "code",
   "execution_count": null,
   "id": "6778f39b",
   "metadata": {},
   "outputs": [],
   "source": [
    "##converting all LDL labels to LAD-CHOLESTEROL\n",
    "filtered_labs_df['Lab Resulted Order Test Description'] = filtered_labs_df['Lab Resulted Order Test Description'].str.replace('LDL-CHOLESTEROL,CALCULATED|LDL-CHOLESTEROL,DIRECT', 'LDL-CHOLESTEROL', case=False,regex=True)\n",
    "filtered_labs_df"
   ]
  },
  {
   "cell_type": "code",
   "execution_count": null,
   "id": "4e7ac2c1",
   "metadata": {},
   "outputs": [],
   "source": [
    "filtered_labs_df.to_csv(os.path.join(OUTPUT_DIR, \"filtered_labs.csv\"), index=False)"
   ]
  },
  {
   "cell_type": "code",
   "execution_count": null,
   "id": "33c51ef4",
   "metadata": {},
   "outputs": [],
   "source": [
    "filtered_labs_df['Lab Resulted Order Test Description'].unique"
   ]
  },
  {
   "cell_type": "markdown",
   "id": "5d722b1b",
   "metadata": {},
   "source": [
    "# Finalising HbA1C and Triglyceride data"
   ]
  },
  {
   "cell_type": "code",
   "execution_count": null,
   "id": "e9fd5d04",
   "metadata": {},
   "outputs": [],
   "source": [
    "filtered_labs_df[FIELD[\"DATE\"]] = pd.to_datetime(filtered_labs_df[FIELD[\"DATE\"]])"
   ]
  },
  {
   "cell_type": "code",
   "execution_count": null,
   "id": "f4be9b15",
   "metadata": {},
   "outputs": [],
   "source": [
    "filtered_labs_df = filtered_labs_df[~filtered_labs_df['Lab Resulted Order Test Description'].str.contains('TRIGLYCERIDES,FLUID | TRIGLYCERIDES,URINE', case=False, na=False)]"
   ]
  },
  {
   "cell_type": "code",
   "execution_count": null,
   "id": "b34eced9",
   "metadata": {},
   "outputs": [],
   "source": [
    "filtered_labs_df['Lab Resulted Order Test Description'].unique()"
   ]
  },
  {
   "cell_type": "markdown",
   "id": "e879f398",
   "metadata": {},
   "source": [
    "# Convert HbA1C IFCC values into percentage values"
   ]
  },
  {
   "cell_type": "code",
   "execution_count": null,
   "id": "036ba987",
   "metadata": {},
   "outputs": [],
   "source": [
    "filtered_labs_df['Result Value']=pd.to_numeric(filtered_labs_df['Result Value'], errors='coerce')\n",
    "for index, value in filtered_labs_df['Lab Resulted Order Test Description'].items():\n",
    "    if value == 'HBA1C IFCC':\n",
    "        filtered_labs_df.at[index, 'Result Value'] = 0.09148* filtered_labs_df.at[index, 'Result Value']+ 2.152\n",
    "        filtered_labs_df.at[index, 'Lab Resulted Order Test Description'] = 'HBA1C'\n",
    "        \n",
    "filtered_labs_df"
   ]
  },
  {
   "cell_type": "code",
   "execution_count": null,
   "id": "bb115958",
   "metadata": {},
   "outputs": [],
   "source": [
    "dff = filtered_labs_df[filtered_labs_df['Lab Resulted Order Test Description']=='HBA1c, blood (dual reporting)']\n",
    "dff"
   ]
  }
 ],
 "metadata": {
  "kernelspec": {
   "display_name": "Python 3 (ipykernel)",
   "language": "python",
   "name": "python3"
  },
  "language_info": {
   "codemirror_mode": {
    "name": "ipython",
    "version": 3
   },
   "file_extension": ".py",
   "mimetype": "text/x-python",
   "name": "python",
   "nbconvert_exporter": "python",
   "pygments_lexer": "ipython3",
   "version": "3.10.6"
  }
 },
 "nbformat": 4,
 "nbformat_minor": 5
}
