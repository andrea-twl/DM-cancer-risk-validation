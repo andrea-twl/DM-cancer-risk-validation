{
 "cells": [
  {
   "cell_type": "code",
   "execution_count": null,
   "id": "02baf954",
   "metadata": {},
   "outputs": [],
   "source": [
    "import sys\n",
    "import pandas as pd\n",
    "import numpy as np\n",
    "from glob import glob\n",
    "import os\n",
    "from types import SimpleNamespace\n",
    "\n",
    "REPO_DIR = os.path.abspath(\"..\")\n",
    "sys.path.append(REPO_DIR)\n",
    "\n",
    "import utils.data_utils as data_utils\n",
    "import utils.PATHS as PATHS"
   ]
  },
  {
   "cell_type": "code",
   "execution_count": null,
   "id": "4a58e765",
   "metadata": {},
   "outputs": [],
   "source": [
    "LAB_FIELDS = SimpleNamespace(**data_utils.LAB_FIELDS)\n",
    "DIAG_FIELDS = SimpleNamespace(**data_utils.DIAG_FIELDS)"
   ]
  },
  {
   "cell_type": "code",
   "execution_count": null,
   "id": "7a078dc6",
   "metadata": {},
   "outputs": [],
   "source": [
    "# Load data\n",
    "lab_df = pd.read_csv(os.path.join(PATHS.OUTPUT_DIR, \"labs.csv\"))\n",
    "diag_df = pd.read_csv(os.path.join(PATHS.OUTPUT_DIR, \"diag.csv\"))"
   ]
  },
  {
   "cell_type": "code",
   "execution_count": null,
   "id": "f901212e",
   "metadata": {},
   "outputs": [],
   "source": [
    "# range of lab tests that contain key words, test missingness "
   ]
  },
  {
   "cell_type": "code",
   "execution_count": null,
   "id": "e7ecaccb",
   "metadata": {},
   "outputs": [],
   "source": []
  }
 ],
 "metadata": {
  "kernelspec": {
   "display_name": "Python 3 (ipykernel)",
   "language": "python",
   "name": "python3"
  },
  "language_info": {
   "codemirror_mode": {
    "name": "ipython",
    "version": 3
   },
   "file_extension": ".py",
   "mimetype": "text/x-python",
   "name": "python",
   "nbconvert_exporter": "python",
   "pygments_lexer": "ipython3",
   "version": "3.10.6"
  }
 },
 "nbformat": 4,
 "nbformat_minor": 5
}
