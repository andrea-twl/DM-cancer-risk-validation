{
 "cells": [
  {
   "cell_type": "code",
   "execution_count": null,
   "id": "bf4c4be0",
   "metadata": {},
   "outputs": [],
   "source": [
    "import sys\n",
    "import pandas as pd\n",
    "import numpy as np\n",
    "from glob import glob\n",
    "import os\n",
    "from types import SimpleNamespace\n",
    "\n",
    "REPO_DIR = os.path.abspath(\"..\")\n",
    "sys.path.append(REPO_DIR)\n",
    "\n",
    "import utils.data_utils as data_utils\n",
    "import utils.PATHS as PATHS"
   ]
  },
  {
   "cell_type": "code",
   "execution_count": null,
   "id": "e1ec22cd",
   "metadata": {},
   "outputs": [],
   "source": [
    "LAB_FIELDS = SimpleNamespace(**data_utils.LAB_FIELDS)\n",
    "DIAG_FIELDS = SimpleNamespace(**data_utils.DIAG_FIELDS)"
   ]
  },
  {
   "cell_type": "code",
   "execution_count": null,
   "id": "2a6646e9",
   "metadata": {},
   "outputs": [],
   "source": [
    "# Load data\n",
    "lab_df = pd.read_csv(os.path.join(PATHS.OUTPUT_DIR, \"labs.csv\"))\n",
    "diag_df = pd.read_csv(os.path.join(PATHS.OUTPUT_DIR, \"diag.csv\"))"
   ]
  },
  {
   "cell_type": "code",
   "execution_count": null,
   "id": "85367474",
   "metadata": {},
   "outputs": [],
   "source": [
    "## Filter lab df by relevant tests, convert units (reduce size of df and standardise lab df format for function below)"
   ]
  },
  {
   "cell_type": "code",
   "execution_count": null,
   "id": "71da9c30",
   "metadata": {},
   "outputs": [],
   "source": [
    "## Filter diagnosis df by relevant patients, relevant cancer diagnoses, and DM diagnoses (to reduce size of df)"
   ]
  },
  {
   "cell_type": "code",
   "execution_count": null,
   "id": "24e52e7d",
   "metadata": {},
   "outputs": [],
   "source": [
    "## Create function that takes in lab_df (w test type col according to slides), diagnoses_df\n",
    "# use LAB_FIELDS and DIAG_FIELDS name space so the new col names are easily mappable\n",
    "# function should \n",
    "    # get 1st dm dx dt and 1st cancer dx dt per patient and put into a window df\n",
    "    # merge lab df with window df and filter by window (is a vectorised operation)\n",
    "    # groupby patient id and test and agg result and date list, then flatten to one row per patinet\n"
   ]
  }
 ],
 "metadata": {
  "kernelspec": {
   "display_name": "Python 3 (ipykernel)",
   "language": "python",
   "name": "python3"
  },
  "language_info": {
   "codemirror_mode": {
    "name": "ipython",
    "version": 3
   },
   "file_extension": ".py",
   "mimetype": "text/x-python",
   "name": "python",
   "nbconvert_exporter": "python",
   "pygments_lexer": "ipython3",
   "version": "3.10.6"
  }
 },
 "nbformat": 4,
 "nbformat_minor": 5
}
