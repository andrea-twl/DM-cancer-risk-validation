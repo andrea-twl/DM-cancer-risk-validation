{
 "cells": [
  {
   "cell_type": "code",
   "execution_count": 1,
   "id": "0ef2dfe3",
   "metadata": {},
   "outputs": [],
   "source": [
    "import sys\n",
    "import pandas as pd\n",
    "import numpy as np\n",
    "from glob import glob\n",
    "import os\n",
    "from types import SimpleNamespace\n",
    "\n",
    "REPO_DIR = os.path.abspath(\"..\")\n",
    "sys.path.append(REPO_DIR)\n",
    "\n",
    "import utils.data_utils as data_utils\n",
    "import utils.PATHS as PATHS"
   ]
  },
  {
   "cell_type": "code",
   "execution_count": 4,
   "id": "de7cdb89",
   "metadata": {},
   "outputs": [],
   "source": [
    "LAB_FIELDS = SimpleNamespace(**data_utils.LAB_FIELDS)\n",
    "DIAG_FIELDS = SimpleNamespace(**data_utils.DIAG_FIELDS)"
   ]
  },
  {
   "cell_type": "code",
   "execution_count": 6,
   "id": "c2f09fb1",
   "metadata": {},
   "outputs": [
    {
     "name": "stderr",
     "output_type": "stream",
     "text": [
      "/tmp/ipykernel_1592/1304673068.py:18: FutureWarning: The error_bad_lines argument has been deprecated and will be removed in a future version. Use on_bad_lines in the future.\n",
      "\n",
      "\n",
      "  df_list = [pd.read_csv(file,engine='python',error_bad_lines=False, usecols=usecols) for file in files]\n",
      "/tmp/ipykernel_1592/1304673068.py:18: FutureWarning: The error_bad_lines argument has been deprecated and will be removed in a future version. Use on_bad_lines in the future.\n",
      "\n",
      "\n",
      "  df_list = [pd.read_csv(file,engine='python',error_bad_lines=False, usecols=usecols) for file in files]\n",
      "/tmp/ipykernel_1592/1304673068.py:18: FutureWarning: The error_bad_lines argument has been deprecated and will be removed in a future version. Use on_bad_lines in the future.\n",
      "\n",
      "\n",
      "  df_list = [pd.read_csv(file,engine='python',error_bad_lines=False, usecols=usecols) for file in files]\n",
      "/tmp/ipykernel_1592/1304673068.py:18: FutureWarning: The error_bad_lines argument has been deprecated and will be removed in a future version. Use on_bad_lines in the future.\n",
      "\n",
      "\n",
      "  df_list = [pd.read_csv(file,engine='python',error_bad_lines=False, usecols=usecols) for file in files]\n",
      "/tmp/ipykernel_1592/1304673068.py:18: FutureWarning: The error_bad_lines argument has been deprecated and will be removed in a future version. Use on_bad_lines in the future.\n",
      "\n",
      "\n",
      "  df_list = [pd.read_csv(file,engine='python',error_bad_lines=False, usecols=usecols) for file in files]\n",
      "/tmp/ipykernel_1592/1304673068.py:18: FutureWarning: The error_bad_lines argument has been deprecated and will be removed in a future version. Use on_bad_lines in the future.\n",
      "\n",
      "\n",
      "  df_list = [pd.read_csv(file,engine='python',error_bad_lines=False, usecols=usecols) for file in files]\n",
      "/tmp/ipykernel_1592/1304673068.py:18: FutureWarning: The error_bad_lines argument has been deprecated and will be removed in a future version. Use on_bad_lines in the future.\n",
      "\n",
      "\n",
      "  df_list = [pd.read_csv(file,engine='python',error_bad_lines=False, usecols=usecols) for file in files]\n",
      "/tmp/ipykernel_1592/1304673068.py:18: FutureWarning: The error_bad_lines argument has been deprecated and will be removed in a future version. Use on_bad_lines in the future.\n",
      "\n",
      "\n",
      "  df_list = [pd.read_csv(file,engine='python',error_bad_lines=False, usecols=usecols) for file in files]\n",
      "/tmp/ipykernel_1592/1304673068.py:18: FutureWarning: The error_bad_lines argument has been deprecated and will be removed in a future version. Use on_bad_lines in the future.\n",
      "\n",
      "\n",
      "  df_list = [pd.read_csv(file,engine='python',error_bad_lines=False, usecols=usecols) for file in files]\n",
      "/tmp/ipykernel_1592/1304673068.py:18: FutureWarning: The error_bad_lines argument has been deprecated and will be removed in a future version. Use on_bad_lines in the future.\n",
      "\n",
      "\n",
      "  df_list = [pd.read_csv(file,engine='python',error_bad_lines=False, usecols=usecols) for file in files]\n",
      "/tmp/ipykernel_1592/1304673068.py:18: FutureWarning: The error_bad_lines argument has been deprecated and will be removed in a future version. Use on_bad_lines in the future.\n",
      "\n",
      "\n",
      "  df_list = [pd.read_csv(file,engine='python',error_bad_lines=False, usecols=usecols) for file in files]\n",
      "/tmp/ipykernel_1592/1304673068.py:18: FutureWarning: The error_bad_lines argument has been deprecated and will be removed in a future version. Use on_bad_lines in the future.\n",
      "\n",
      "\n",
      "  df_list = [pd.read_csv(file,engine='python',error_bad_lines=False, usecols=usecols) for file in files]\n",
      "/tmp/ipykernel_1592/1304673068.py:18: FutureWarning: The error_bad_lines argument has been deprecated and will be removed in a future version. Use on_bad_lines in the future.\n",
      "\n",
      "\n",
      "  df_list = [pd.read_csv(file,engine='python',error_bad_lines=False, usecols=usecols) for file in files]\n",
      "/tmp/ipykernel_1592/1304673068.py:18: FutureWarning: The error_bad_lines argument has been deprecated and will be removed in a future version. Use on_bad_lines in the future.\n",
      "\n",
      "\n",
      "  df_list = [pd.read_csv(file,engine='python',error_bad_lines=False, usecols=usecols) for file in files]\n",
      "/tmp/ipykernel_1592/1304673068.py:18: FutureWarning: The error_bad_lines argument has been deprecated and will be removed in a future version. Use on_bad_lines in the future.\n",
      "\n",
      "\n",
      "  df_list = [pd.read_csv(file,engine='python',error_bad_lines=False, usecols=usecols) for file in files]\n",
      "/tmp/ipykernel_1592/1304673068.py:18: FutureWarning: The error_bad_lines argument has been deprecated and will be removed in a future version. Use on_bad_lines in the future.\n",
      "\n",
      "\n",
      "  df_list = [pd.read_csv(file,engine='python',error_bad_lines=False, usecols=usecols) for file in files]\n",
      "/tmp/ipykernel_1592/1304673068.py:18: FutureWarning: The error_bad_lines argument has been deprecated and will be removed in a future version. Use on_bad_lines in the future.\n",
      "\n",
      "\n",
      "  df_list = [pd.read_csv(file,engine='python',error_bad_lines=False, usecols=usecols) for file in files]\n",
      "/tmp/ipykernel_1592/1304673068.py:18: FutureWarning: The error_bad_lines argument has been deprecated and will be removed in a future version. Use on_bad_lines in the future.\n",
      "\n",
      "\n",
      "  df_list = [pd.read_csv(file,engine='python',error_bad_lines=False, usecols=usecols) for file in files]\n",
      "/tmp/ipykernel_1592/1304673068.py:18: FutureWarning: The error_bad_lines argument has been deprecated and will be removed in a future version. Use on_bad_lines in the future.\n",
      "\n",
      "\n",
      "  df_list = [pd.read_csv(file,engine='python',error_bad_lines=False, usecols=usecols) for file in files]\n",
      "/tmp/ipykernel_1592/1304673068.py:18: FutureWarning: The error_bad_lines argument has been deprecated and will be removed in a future version. Use on_bad_lines in the future.\n",
      "\n",
      "\n",
      "  df_list = [pd.read_csv(file,engine='python',error_bad_lines=False, usecols=usecols) for file in files]\n",
      "/tmp/ipykernel_1592/1304673068.py:18: FutureWarning: The error_bad_lines argument has been deprecated and will be removed in a future version. Use on_bad_lines in the future.\n",
      "\n",
      "\n",
      "  df_list = [pd.read_csv(file,engine='python',error_bad_lines=False, usecols=usecols) for file in files]\n",
      "/tmp/ipykernel_1592/1304673068.py:18: FutureWarning: The error_bad_lines argument has been deprecated and will be removed in a future version. Use on_bad_lines in the future.\n",
      "\n",
      "\n",
      "  df_list = [pd.read_csv(file,engine='python',error_bad_lines=False, usecols=usecols) for file in files]\n",
      "/tmp/ipykernel_1592/1304673068.py:18: FutureWarning: The error_bad_lines argument has been deprecated and will be removed in a future version. Use on_bad_lines in the future.\n",
      "\n",
      "\n",
      "  df_list = [pd.read_csv(file,engine='python',error_bad_lines=False, usecols=usecols) for file in files]\n",
      "/tmp/ipykernel_1592/1304673068.py:18: FutureWarning: The error_bad_lines argument has been deprecated and will be removed in a future version. Use on_bad_lines in the future.\n",
      "\n",
      "\n",
      "  df_list = [pd.read_csv(file,engine='python',error_bad_lines=False, usecols=usecols) for file in files]\n",
      "/tmp/ipykernel_1592/1304673068.py:18: FutureWarning: The error_bad_lines argument has been deprecated and will be removed in a future version. Use on_bad_lines in the future.\n",
      "\n",
      "\n",
      "  df_list = [pd.read_csv(file,engine='python',error_bad_lines=False, usecols=usecols) for file in files]\n",
      "/tmp/ipykernel_1592/1304673068.py:18: FutureWarning: The error_bad_lines argument has been deprecated and will be removed in a future version. Use on_bad_lines in the future.\n",
      "\n",
      "\n",
      "  df_list = [pd.read_csv(file,engine='python',error_bad_lines=False, usecols=usecols) for file in files]\n",
      "/tmp/ipykernel_1592/1304673068.py:18: FutureWarning: The error_bad_lines argument has been deprecated and will be removed in a future version. Use on_bad_lines in the future.\n",
      "\n",
      "\n",
      "  df_list = [pd.read_csv(file,engine='python',error_bad_lines=False, usecols=usecols) for file in files]\n",
      "/tmp/ipykernel_1592/1304673068.py:18: FutureWarning: The error_bad_lines argument has been deprecated and will be removed in a future version. Use on_bad_lines in the future.\n",
      "\n",
      "\n",
      "  df_list = [pd.read_csv(file,engine='python',error_bad_lines=False, usecols=usecols) for file in files]\n",
      "/tmp/ipykernel_1592/1304673068.py:18: FutureWarning: The error_bad_lines argument has been deprecated and will be removed in a future version. Use on_bad_lines in the future.\n",
      "\n",
      "\n",
      "  df_list = [pd.read_csv(file,engine='python',error_bad_lines=False, usecols=usecols) for file in files]\n",
      "/tmp/ipykernel_1592/1304673068.py:18: FutureWarning: The error_bad_lines argument has been deprecated and will be removed in a future version. Use on_bad_lines in the future.\n",
      "\n",
      "\n",
      "  df_list = [pd.read_csv(file,engine='python',error_bad_lines=False, usecols=usecols) for file in files]\n",
      "/tmp/ipykernel_1592/1304673068.py:18: FutureWarning: The error_bad_lines argument has been deprecated and will be removed in a future version. Use on_bad_lines in the future.\n",
      "\n",
      "\n",
      "  df_list = [pd.read_csv(file,engine='python',error_bad_lines=False, usecols=usecols) for file in files]\n",
      "/tmp/ipykernel_1592/1304673068.py:18: FutureWarning: The error_bad_lines argument has been deprecated and will be removed in a future version. Use on_bad_lines in the future.\n",
      "\n",
      "\n",
      "  df_list = [pd.read_csv(file,engine='python',error_bad_lines=False, usecols=usecols) for file in files]\n",
      "/tmp/ipykernel_1592/1304673068.py:18: FutureWarning: The error_bad_lines argument has been deprecated and will be removed in a future version. Use on_bad_lines in the future.\n",
      "\n",
      "\n",
      "  df_list = [pd.read_csv(file,engine='python',error_bad_lines=False, usecols=usecols) for file in files]\n",
      "/tmp/ipykernel_1592/1304673068.py:18: FutureWarning: The error_bad_lines argument has been deprecated and will be removed in a future version. Use on_bad_lines in the future.\n",
      "\n",
      "\n",
      "  df_list = [pd.read_csv(file,engine='python',error_bad_lines=False, usecols=usecols) for file in files]\n",
      "/tmp/ipykernel_1592/1304673068.py:18: FutureWarning: The error_bad_lines argument has been deprecated and will be removed in a future version. Use on_bad_lines in the future.\n",
      "\n",
      "\n",
      "  df_list = [pd.read_csv(file,engine='python',error_bad_lines=False, usecols=usecols) for file in files]\n",
      "/tmp/ipykernel_1592/1304673068.py:18: FutureWarning: The error_bad_lines argument has been deprecated and will be removed in a future version. Use on_bad_lines in the future.\n",
      "\n",
      "\n",
      "  df_list = [pd.read_csv(file,engine='python',error_bad_lines=False, usecols=usecols) for file in files]\n",
      "/tmp/ipykernel_1592/1304673068.py:18: FutureWarning: The error_bad_lines argument has been deprecated and will be removed in a future version. Use on_bad_lines in the future.\n",
      "\n",
      "\n",
      "  df_list = [pd.read_csv(file,engine='python',error_bad_lines=False, usecols=usecols) for file in files]\n",
      "/tmp/ipykernel_1592/1304673068.py:18: FutureWarning: The error_bad_lines argument has been deprecated and will be removed in a future version. Use on_bad_lines in the future.\n",
      "\n",
      "\n",
      "  df_list = [pd.read_csv(file,engine='python',error_bad_lines=False, usecols=usecols) for file in files]\n",
      "/tmp/ipykernel_1592/1304673068.py:18: FutureWarning: The error_bad_lines argument has been deprecated and will be removed in a future version. Use on_bad_lines in the future.\n",
      "\n",
      "\n",
      "  df_list = [pd.read_csv(file,engine='python',error_bad_lines=False, usecols=usecols) for file in files]\n",
      "/tmp/ipykernel_1592/1304673068.py:18: FutureWarning: The error_bad_lines argument has been deprecated and will be removed in a future version. Use on_bad_lines in the future.\n",
      "\n",
      "\n",
      "  df_list = [pd.read_csv(file,engine='python',error_bad_lines=False, usecols=usecols) for file in files]\n",
      "/tmp/ipykernel_1592/1304673068.py:18: FutureWarning: The error_bad_lines argument has been deprecated and will be removed in a future version. Use on_bad_lines in the future.\n",
      "\n",
      "\n",
      "  df_list = [pd.read_csv(file,engine='python',error_bad_lines=False, usecols=usecols) for file in files]\n",
      "/tmp/ipykernel_1592/1304673068.py:18: FutureWarning: The error_bad_lines argument has been deprecated and will be removed in a future version. Use on_bad_lines in the future.\n",
      "\n",
      "\n",
      "  df_list = [pd.read_csv(file,engine='python',error_bad_lines=False, usecols=usecols) for file in files]\n",
      "/tmp/ipykernel_1592/1304673068.py:18: FutureWarning: The error_bad_lines argument has been deprecated and will be removed in a future version. Use on_bad_lines in the future.\n",
      "\n",
      "\n",
      "  df_list = [pd.read_csv(file,engine='python',error_bad_lines=False, usecols=usecols) for file in files]\n",
      "/tmp/ipykernel_1592/1304673068.py:18: FutureWarning: The error_bad_lines argument has been deprecated and will be removed in a future version. Use on_bad_lines in the future.\n",
      "\n",
      "\n",
      "  df_list = [pd.read_csv(file,engine='python',error_bad_lines=False, usecols=usecols) for file in files]\n",
      "/tmp/ipykernel_1592/1304673068.py:18: FutureWarning: The error_bad_lines argument has been deprecated and will be removed in a future version. Use on_bad_lines in the future.\n",
      "\n",
      "\n",
      "  df_list = [pd.read_csv(file,engine='python',error_bad_lines=False, usecols=usecols) for file in files]\n",
      "/tmp/ipykernel_1592/1304673068.py:18: FutureWarning: The error_bad_lines argument has been deprecated and will be removed in a future version. Use on_bad_lines in the future.\n",
      "\n",
      "\n",
      "  df_list = [pd.read_csv(file,engine='python',error_bad_lines=False, usecols=usecols) for file in files]\n",
      "/tmp/ipykernel_1592/1304673068.py:18: FutureWarning: The error_bad_lines argument has been deprecated and will be removed in a future version. Use on_bad_lines in the future.\n",
      "\n",
      "\n",
      "  df_list = [pd.read_csv(file,engine='python',error_bad_lines=False, usecols=usecols) for file in files]\n",
      "/tmp/ipykernel_1592/1304673068.py:18: FutureWarning: The error_bad_lines argument has been deprecated and will be removed in a future version. Use on_bad_lines in the future.\n",
      "\n",
      "\n",
      "  df_list = [pd.read_csv(file,engine='python',error_bad_lines=False, usecols=usecols) for file in files]\n",
      "/tmp/ipykernel_1592/1304673068.py:18: FutureWarning: The error_bad_lines argument has been deprecated and will be removed in a future version. Use on_bad_lines in the future.\n",
      "\n",
      "\n",
      "  df_list = [pd.read_csv(file,engine='python',error_bad_lines=False, usecols=usecols) for file in files]\n",
      "/tmp/ipykernel_1592/1304673068.py:18: FutureWarning: The error_bad_lines argument has been deprecated and will be removed in a future version. Use on_bad_lines in the future.\n",
      "\n",
      "\n",
      "  df_list = [pd.read_csv(file,engine='python',error_bad_lines=False, usecols=usecols) for file in files]\n",
      "Skipping line 146304: unexpected end of data\n",
      "/tmp/ipykernel_1592/1304673068.py:18: FutureWarning: The error_bad_lines argument has been deprecated and will be removed in a future version. Use on_bad_lines in the future.\n",
      "\n",
      "\n",
      "  df_list = [pd.read_csv(file,engine='python',error_bad_lines=False, usecols=usecols) for file in files]\n",
      "/tmp/ipykernel_1592/1304673068.py:18: FutureWarning: The error_bad_lines argument has been deprecated and will be removed in a future version. Use on_bad_lines in the future.\n",
      "\n",
      "\n",
      "  df_list = [pd.read_csv(file,engine='python',error_bad_lines=False, usecols=usecols) for file in files]\n",
      "/tmp/ipykernel_1592/1304673068.py:18: FutureWarning: The error_bad_lines argument has been deprecated and will be removed in a future version. Use on_bad_lines in the future.\n",
      "\n",
      "\n",
      "  df_list = [pd.read_csv(file,engine='python',error_bad_lines=False, usecols=usecols) for file in files]\n",
      "/tmp/ipykernel_1592/1304673068.py:18: FutureWarning: The error_bad_lines argument has been deprecated and will be removed in a future version. Use on_bad_lines in the future.\n",
      "\n",
      "\n",
      "  df_list = [pd.read_csv(file,engine='python',error_bad_lines=False, usecols=usecols) for file in files]\n",
      "/tmp/ipykernel_1592/1304673068.py:18: FutureWarning: The error_bad_lines argument has been deprecated and will be removed in a future version. Use on_bad_lines in the future.\n",
      "\n",
      "\n",
      "  df_list = [pd.read_csv(file,engine='python',error_bad_lines=False, usecols=usecols) for file in files]\n",
      "/tmp/ipykernel_1592/1304673068.py:18: FutureWarning: The error_bad_lines argument has been deprecated and will be removed in a future version. Use on_bad_lines in the future.\n",
      "\n",
      "\n",
      "  df_list = [pd.read_csv(file,engine='python',error_bad_lines=False, usecols=usecols) for file in files]\n",
      "/tmp/ipykernel_1592/1304673068.py:18: FutureWarning: The error_bad_lines argument has been deprecated and will be removed in a future version. Use on_bad_lines in the future.\n",
      "\n",
      "\n",
      "  df_list = [pd.read_csv(file,engine='python',error_bad_lines=False, usecols=usecols) for file in files]\n",
      "/tmp/ipykernel_1592/1304673068.py:18: FutureWarning: The error_bad_lines argument has been deprecated and will be removed in a future version. Use on_bad_lines in the future.\n",
      "\n",
      "\n",
      "  df_list = [pd.read_csv(file,engine='python',error_bad_lines=False, usecols=usecols) for file in files]\n",
      "/tmp/ipykernel_1592/1304673068.py:18: FutureWarning: The error_bad_lines argument has been deprecated and will be removed in a future version. Use on_bad_lines in the future.\n",
      "\n",
      "\n",
      "  df_list = [pd.read_csv(file,engine='python',error_bad_lines=False, usecols=usecols) for file in files]\n",
      "/tmp/ipykernel_1592/1304673068.py:18: FutureWarning: The error_bad_lines argument has been deprecated and will be removed in a future version. Use on_bad_lines in the future.\n",
      "\n",
      "\n",
      "  df_list = [pd.read_csv(file,engine='python',error_bad_lines=False, usecols=usecols) for file in files]\n",
      "/tmp/ipykernel_1592/1304673068.py:18: FutureWarning: The error_bad_lines argument has been deprecated and will be removed in a future version. Use on_bad_lines in the future.\n",
      "\n",
      "\n",
      "  df_list = [pd.read_csv(file,engine='python',error_bad_lines=False, usecols=usecols) for file in files]\n",
      "/tmp/ipykernel_1592/1304673068.py:18: FutureWarning: The error_bad_lines argument has been deprecated and will be removed in a future version. Use on_bad_lines in the future.\n",
      "\n",
      "\n",
      "  df_list = [pd.read_csv(file,engine='python',error_bad_lines=False, usecols=usecols) for file in files]\n",
      "/tmp/ipykernel_1592/1304673068.py:18: FutureWarning: The error_bad_lines argument has been deprecated and will be removed in a future version. Use on_bad_lines in the future.\n",
      "\n",
      "\n",
      "  df_list = [pd.read_csv(file,engine='python',error_bad_lines=False, usecols=usecols) for file in files]\n",
      "/tmp/ipykernel_1592/1304673068.py:18: FutureWarning: The error_bad_lines argument has been deprecated and will be removed in a future version. Use on_bad_lines in the future.\n",
      "\n",
      "\n",
      "  df_list = [pd.read_csv(file,engine='python',error_bad_lines=False, usecols=usecols) for file in files]\n",
      "/tmp/ipykernel_1592/1304673068.py:18: FutureWarning: The error_bad_lines argument has been deprecated and will be removed in a future version. Use on_bad_lines in the future.\n",
      "\n",
      "\n",
      "  df_list = [pd.read_csv(file,engine='python',error_bad_lines=False, usecols=usecols) for file in files]\n",
      "/tmp/ipykernel_1592/1304673068.py:18: FutureWarning: The error_bad_lines argument has been deprecated and will be removed in a future version. Use on_bad_lines in the future.\n",
      "\n",
      "\n",
      "  df_list = [pd.read_csv(file,engine='python',error_bad_lines=False, usecols=usecols) for file in files]\n",
      "/tmp/ipykernel_1592/1304673068.py:18: FutureWarning: The error_bad_lines argument has been deprecated and will be removed in a future version. Use on_bad_lines in the future.\n",
      "\n",
      "\n",
      "  df_list = [pd.read_csv(file,engine='python',error_bad_lines=False, usecols=usecols) for file in files]\n",
      "/tmp/ipykernel_1592/1304673068.py:18: FutureWarning: The error_bad_lines argument has been deprecated and will be removed in a future version. Use on_bad_lines in the future.\n",
      "\n",
      "\n",
      "  df_list = [pd.read_csv(file,engine='python',error_bad_lines=False, usecols=usecols) for file in files]\n",
      "/tmp/ipykernel_1592/1304673068.py:18: FutureWarning: The error_bad_lines argument has been deprecated and will be removed in a future version. Use on_bad_lines in the future.\n",
      "\n",
      "\n",
      "  df_list = [pd.read_csv(file,engine='python',error_bad_lines=False, usecols=usecols) for file in files]\n",
      "/tmp/ipykernel_1592/1304673068.py:18: FutureWarning: The error_bad_lines argument has been deprecated and will be removed in a future version. Use on_bad_lines in the future.\n",
      "\n",
      "\n",
      "  df_list = [pd.read_csv(file,engine='python',error_bad_lines=False, usecols=usecols) for file in files]\n",
      "/tmp/ipykernel_1592/1304673068.py:18: FutureWarning: The error_bad_lines argument has been deprecated and will be removed in a future version. Use on_bad_lines in the future.\n",
      "\n",
      "\n",
      "  df_list = [pd.read_csv(file,engine='python',error_bad_lines=False, usecols=usecols) for file in files]\n",
      "/tmp/ipykernel_1592/1304673068.py:18: FutureWarning: The error_bad_lines argument has been deprecated and will be removed in a future version. Use on_bad_lines in the future.\n",
      "\n",
      "\n",
      "  df_list = [pd.read_csv(file,engine='python',error_bad_lines=False, usecols=usecols) for file in files]\n",
      "/tmp/ipykernel_1592/1304673068.py:18: FutureWarning: The error_bad_lines argument has been deprecated and will be removed in a future version. Use on_bad_lines in the future.\n",
      "\n",
      "\n",
      "  df_list = [pd.read_csv(file,engine='python',error_bad_lines=False, usecols=usecols) for file in files]\n",
      "/tmp/ipykernel_1592/1304673068.py:18: FutureWarning: The error_bad_lines argument has been deprecated and will be removed in a future version. Use on_bad_lines in the future.\n",
      "\n",
      "\n",
      "  df_list = [pd.read_csv(file,engine='python',error_bad_lines=False, usecols=usecols) for file in files]\n",
      "/tmp/ipykernel_1592/1304673068.py:18: FutureWarning: The error_bad_lines argument has been deprecated and will be removed in a future version. Use on_bad_lines in the future.\n",
      "\n",
      "\n",
      "  df_list = [pd.read_csv(file,engine='python',error_bad_lines=False, usecols=usecols) for file in files]\n",
      "/tmp/ipykernel_1592/1304673068.py:18: FutureWarning: The error_bad_lines argument has been deprecated and will be removed in a future version. Use on_bad_lines in the future.\n",
      "\n",
      "\n",
      "  df_list = [pd.read_csv(file,engine='python',error_bad_lines=False, usecols=usecols) for file in files]\n",
      "/tmp/ipykernel_1592/1304673068.py:18: FutureWarning: The error_bad_lines argument has been deprecated and will be removed in a future version. Use on_bad_lines in the future.\n",
      "\n",
      "\n",
      "  df_list = [pd.read_csv(file,engine='python',error_bad_lines=False, usecols=usecols) for file in files]\n",
      "/tmp/ipykernel_1592/1304673068.py:18: FutureWarning: The error_bad_lines argument has been deprecated and will be removed in a future version. Use on_bad_lines in the future.\n",
      "\n",
      "\n",
      "  df_list = [pd.read_csv(file,engine='python',error_bad_lines=False, usecols=usecols) for file in files]\n",
      "Skipping line 263816: unexpected end of data\n",
      "/tmp/ipykernel_1592/1304673068.py:18: FutureWarning: The error_bad_lines argument has been deprecated and will be removed in a future version. Use on_bad_lines in the future.\n",
      "\n",
      "\n",
      "  df_list = [pd.read_csv(file,engine='python',error_bad_lines=False, usecols=usecols) for file in files]\n",
      "/tmp/ipykernel_1592/1304673068.py:18: FutureWarning: The error_bad_lines argument has been deprecated and will be removed in a future version. Use on_bad_lines in the future.\n",
      "\n",
      "\n",
      "  df_list = [pd.read_csv(file,engine='python',error_bad_lines=False, usecols=usecols) for file in files]\n",
      "/tmp/ipykernel_1592/1304673068.py:18: FutureWarning: The error_bad_lines argument has been deprecated and will be removed in a future version. Use on_bad_lines in the future.\n",
      "\n",
      "\n",
      "  df_list = [pd.read_csv(file,engine='python',error_bad_lines=False, usecols=usecols) for file in files]\n",
      "Skipping line 59381: unexpected end of data\n",
      "/tmp/ipykernel_1592/1304673068.py:18: FutureWarning: The error_bad_lines argument has been deprecated and will be removed in a future version. Use on_bad_lines in the future.\n",
      "\n",
      "\n",
      "  df_list = [pd.read_csv(file,engine='python',error_bad_lines=False, usecols=usecols) for file in files]\n",
      "/tmp/ipykernel_1592/1304673068.py:18: FutureWarning: The error_bad_lines argument has been deprecated and will be removed in a future version. Use on_bad_lines in the future.\n",
      "\n",
      "\n",
      "  df_list = [pd.read_csv(file,engine='python',error_bad_lines=False, usecols=usecols) for file in files]\n",
      "/tmp/ipykernel_1592/1304673068.py:18: FutureWarning: The error_bad_lines argument has been deprecated and will be removed in a future version. Use on_bad_lines in the future.\n",
      "\n",
      "\n",
      "  df_list = [pd.read_csv(file,engine='python',error_bad_lines=False, usecols=usecols) for file in files]\n",
      "/tmp/ipykernel_1592/1304673068.py:18: FutureWarning: The error_bad_lines argument has been deprecated and will be removed in a future version. Use on_bad_lines in the future.\n",
      "\n",
      "\n",
      "  df_list = [pd.read_csv(file,engine='python',error_bad_lines=False, usecols=usecols) for file in files]\n",
      "/tmp/ipykernel_1592/1304673068.py:18: FutureWarning: The error_bad_lines argument has been deprecated and will be removed in a future version. Use on_bad_lines in the future.\n",
      "\n",
      "\n",
      "  df_list = [pd.read_csv(file,engine='python',error_bad_lines=False, usecols=usecols) for file in files]\n"
     ]
    },
    {
     "data": {
      "text/html": [
       "<div>\n",
       "<style scoped>\n",
       "    .dataframe tbody tr th:only-of-type {\n",
       "        vertical-align: middle;\n",
       "    }\n",
       "\n",
       "    .dataframe tbody tr th {\n",
       "        vertical-align: top;\n",
       "    }\n",
       "\n",
       "    .dataframe thead th {\n",
       "        text-align: right;\n",
       "    }\n",
       "</style>\n",
       "<table border=\"1\" class=\"dataframe\">\n",
       "  <thead>\n",
       "    <tr style=\"text-align: right;\">\n",
       "      <th></th>\n",
       "      <th>Patient ID</th>\n",
       "      <th>Gender</th>\n",
       "      <th>Date of Birth</th>\n",
       "      <th>Specimen Received Date</th>\n",
       "      <th>Lab Resulted Order Test Description</th>\n",
       "      <th>Result Value</th>\n",
       "    </tr>\n",
       "  </thead>\n",
       "  <tbody>\n",
       "    <tr>\n",
       "      <th>0</th>\n",
       "      <td>99e88d7e9046e4af701e</td>\n",
       "      <td>MALE</td>\n",
       "      <td>1963-10-01</td>\n",
       "      <td>2018-08-13</td>\n",
       "      <td>Electrocardiogram (12-lead)</td>\n",
       "      <td>NaN</td>\n",
       "    </tr>\n",
       "    <tr>\n",
       "      <th>1</th>\n",
       "      <td>984319b7290da014c2cd</td>\n",
       "      <td>FEMALE</td>\n",
       "      <td>1975-02-01</td>\n",
       "      <td>2018-08-27</td>\n",
       "      <td>BICARBONATE</td>\n",
       "      <td>23.1</td>\n",
       "    </tr>\n",
       "    <tr>\n",
       "      <th>2</th>\n",
       "      <td>984319b7290da014c2cd</td>\n",
       "      <td>FEMALE</td>\n",
       "      <td>1975-02-01</td>\n",
       "      <td>2018-08-27</td>\n",
       "      <td>CHLORIDE</td>\n",
       "      <td>110</td>\n",
       "    </tr>\n",
       "    <tr>\n",
       "      <th>3</th>\n",
       "      <td>984319b7290da014c2cd</td>\n",
       "      <td>FEMALE</td>\n",
       "      <td>1975-02-01</td>\n",
       "      <td>2018-08-27</td>\n",
       "      <td>CREATININE</td>\n",
       "      <td>49</td>\n",
       "    </tr>\n",
       "    <tr>\n",
       "      <th>4</th>\n",
       "      <td>984319b7290da014c2cd</td>\n",
       "      <td>FEMALE</td>\n",
       "      <td>1975-02-01</td>\n",
       "      <td>2018-08-27</td>\n",
       "      <td>POTASSIUM</td>\n",
       "      <td>3.8</td>\n",
       "    </tr>\n",
       "    <tr>\n",
       "      <th>...</th>\n",
       "      <td>...</td>\n",
       "      <td>...</td>\n",
       "      <td>...</td>\n",
       "      <td>...</td>\n",
       "      <td>...</td>\n",
       "      <td>...</td>\n",
       "    </tr>\n",
       "    <tr>\n",
       "      <th>9946387</th>\n",
       "      <td>ff74d0b893435d0aa220</td>\n",
       "      <td>MALE</td>\n",
       "      <td>1947-05-01</td>\n",
       "      <td>2021-07-09</td>\n",
       "      <td>TOTAL ABS COUNT</td>\n",
       "      <td>8.28</td>\n",
       "    </tr>\n",
       "    <tr>\n",
       "      <th>9946388</th>\n",
       "      <td>ff74d0b893435d0aa220</td>\n",
       "      <td>MALE</td>\n",
       "      <td>1947-05-01</td>\n",
       "      <td>2021-07-09</td>\n",
       "      <td>TOTAL CELL COUNT</td>\n",
       "      <td>100.0</td>\n",
       "    </tr>\n",
       "    <tr>\n",
       "      <th>9946389</th>\n",
       "      <td>ff74d0b893435d0aa220</td>\n",
       "      <td>MALE</td>\n",
       "      <td>1947-05-01</td>\n",
       "      <td>2021-07-09</td>\n",
       "      <td>WBC</td>\n",
       "      <td>8.28</td>\n",
       "    </tr>\n",
       "    <tr>\n",
       "      <th>9946390</th>\n",
       "      <td>ff74d0b893435d0aa220</td>\n",
       "      <td>MALE</td>\n",
       "      <td>1947-05-01</td>\n",
       "      <td>2021-07-09</td>\n",
       "      <td>MAGNESIUM</td>\n",
       "      <td>0.90</td>\n",
       "    </tr>\n",
       "    <tr>\n",
       "      <th>9946391</th>\n",
       "      <td>ff74d0b893435d0aa220</td>\n",
       "      <td>MALE</td>\n",
       "      <td>1947-05-01</td>\n",
       "      <td>None</td>\n",
       "      <td>None</td>\n",
       "      <td>None</td>\n",
       "    </tr>\n",
       "  </tbody>\n",
       "</table>\n",
       "<p>9946392 rows × 6 columns</p>\n",
       "</div>"
      ],
      "text/plain": [
       "                   Patient ID  Gender Date of Birth Specimen Received Date  \\\n",
       "0        99e88d7e9046e4af701e    MALE    1963-10-01             2018-08-13   \n",
       "1        984319b7290da014c2cd  FEMALE    1975-02-01             2018-08-27   \n",
       "2        984319b7290da014c2cd  FEMALE    1975-02-01             2018-08-27   \n",
       "3        984319b7290da014c2cd  FEMALE    1975-02-01             2018-08-27   \n",
       "4        984319b7290da014c2cd  FEMALE    1975-02-01             2018-08-27   \n",
       "...                       ...     ...           ...                    ...   \n",
       "9946387  ff74d0b893435d0aa220    MALE    1947-05-01             2021-07-09   \n",
       "9946388  ff74d0b893435d0aa220    MALE    1947-05-01             2021-07-09   \n",
       "9946389  ff74d0b893435d0aa220    MALE    1947-05-01             2021-07-09   \n",
       "9946390  ff74d0b893435d0aa220    MALE    1947-05-01             2021-07-09   \n",
       "9946391  ff74d0b893435d0aa220    MALE    1947-05-01                   None   \n",
       "\n",
       "        Lab Resulted Order Test Description Result Value  \n",
       "0               Electrocardiogram (12-lead)          NaN  \n",
       "1                               BICARBONATE         23.1  \n",
       "2                                  CHLORIDE          110  \n",
       "3                                CREATININE           49  \n",
       "4                                 POTASSIUM          3.8  \n",
       "...                                     ...          ...  \n",
       "9946387                     TOTAL ABS COUNT         8.28  \n",
       "9946388                    TOTAL CELL COUNT        100.0  \n",
       "9946389                                 WBC         8.28  \n",
       "9946390                           MAGNESIUM         0.90  \n",
       "9946391                                None         None  \n",
       "\n",
       "[9946392 rows x 6 columns]"
      ]
     },
     "execution_count": 6,
     "metadata": {},
     "output_type": "execute_result"
    }
   ],
   "source": [
    "FIELD = {\n",
    "    \"ID\": \"Patient ID\",\n",
    "    \"RACE\": \"Race\",\n",
    "    \"DOB\": \"Date of Birth\",\n",
    "    \"Nationality\": \"Nationality\",\n",
    "    \"INSTITUTION\": \"Institution Code\",\n",
    "    \"TEST_NAME\": \"Lab Resulted Order Test Description\",\n",
    "    \"RESULT\": \"Result Value\",\n",
    "    \"DATE\": \"Specimen Received Date\" # \"Specimen Collection Date\",\n",
    "}\n",
    "HOME_DIR = \"/home/jovyan\"\n",
    "DATA_DIR = os.path.join(HOME_DIR, \"arc-sg/data\")\n",
    "OUTPUT_DIR = os.path.join(HOME_DIR, \"arc-sg/outputs\")\n",
    "def aggregate_csvs(input_dir, curr_df = pd.DataFrame(), usecols=None):\n",
    "    files = glob(input_dir)\n",
    "    df_list = []\n",
    "    if usecols:\n",
    "        df_list = [pd.read_csv(file,engine='python',error_bad_lines=False, usecols=usecols) for file in files]\n",
    "    else: \n",
    "        df_list = [pd.read_csv(file) for file in files]\n",
    "    df_all  = pd.concat([curr_df, *df_list], ignore_index=True)\n",
    "    return df_all\n",
    "\n",
    "input_dir = os.path.join(DATA_DIR, \"SGH 2015-2022\", \"*.csv\")\n",
    "usecols = ['Patient ID','Gender', 'Date of Birth','Specimen Received Date', 'Lab Resulted Order Test Description','Result Value' ] # temporarily\n",
    "# usecols = FIELD.values()\n",
    "labs_df = pd.DataFrame()\n",
    "\n",
    "labs_df = aggregate_csvs(os.path.join(DATA_DIR, \"SGH 2015-2022\", \"*.csv\"), labs_df, usecols)\n",
    "labs_df"
   ]
  },
  {
   "cell_type": "code",
   "execution_count": 8,
   "id": "6c6477e6",
   "metadata": {},
   "outputs": [
    {
     "data": {
      "text/html": [
       "<div>\n",
       "<style scoped>\n",
       "    .dataframe tbody tr th:only-of-type {\n",
       "        vertical-align: middle;\n",
       "    }\n",
       "\n",
       "    .dataframe tbody tr th {\n",
       "        vertical-align: top;\n",
       "    }\n",
       "\n",
       "    .dataframe thead th {\n",
       "        text-align: right;\n",
       "    }\n",
       "</style>\n",
       "<table border=\"1\" class=\"dataframe\">\n",
       "  <thead>\n",
       "    <tr style=\"text-align: right;\">\n",
       "      <th></th>\n",
       "    </tr>\n",
       "  </thead>\n",
       "  <tbody>\n",
       "  </tbody>\n",
       "</table>\n",
       "</div>"
      ],
      "text/plain": [
       "Empty DataFrame\n",
       "Columns: []\n",
       "Index: []"
      ]
     },
     "execution_count": 8,
     "metadata": {},
     "output_type": "execute_result"
    }
   ],
   "source": [
    "# Load data\n",
    "diag_df = pd.read_pickle(os.path.join(PATHS.OUTPUT_DIR, \"diagnosis(2).pkl\"))\n",
    "diag_df"
   ]
  },
  {
   "cell_type": "code",
   "execution_count": null,
   "id": "3e29a5b2",
   "metadata": {},
   "outputs": [],
   "source": [
    "## Filter lab df by relevant tests, convert units (reduce size of df and standardise lab df format for function below)"
   ]
  },
  {
   "cell_type": "code",
   "execution_count": null,
   "id": "236bfef1",
   "metadata": {},
   "outputs": [],
   "source": [
    "## Filter diagnosis df by relevant patients, relevant cancer diagnoses, and DM diagnoses (to reduce size of df)"
   ]
  },
  {
   "cell_type": "code",
   "execution_count": null,
   "id": "f69f491b",
   "metadata": {},
   "outputs": [],
   "source": [
    "## Create function that takes in lab_df (w test type col according to slides), diagnoses_df\n",
    "# use LAB_FIELDS and DIAG_FIELDS name space so the new col names are easily mappable\n",
    "# function should \n",
    "    # get 1st dm dx dt and 1st cancer dx dt per patient and put into a window df\n",
    "    # merge lab df with window df and filter by window (is a vectorised operation)\n",
    "    # groupby patient id and test and agg result and date list, then flatten to one row per patinet\n"
   ]
  },
  {
   "cell_type": "code",
   "execution_count": null,
   "id": "6b2c92c8",
   "metadata": {},
   "outputs": [],
   "source": [
    "LAB_FIELDS.ID"
   ]
  },
  {
   "cell_type": "markdown",
   "id": "67a21709",
   "metadata": {},
   "source": [
    "# Lab test exploration"
   ]
  },
  {
   "cell_type": "code",
   "execution_count": null,
   "id": "633da449",
   "metadata": {},
   "outputs": [],
   "source": [
    "glucose_mask = labs_df[FIELD[\"TEST_NAME\"]].str.contains(\"glucose\", case=False, na=False) & labs_df[FIELD[\"TEST_NAME\"]].str.contains(\"fasting\", case=False, na=False)"
   ]
  },
  {
   "cell_type": "code",
   "execution_count": null,
   "id": "c6de75bd",
   "metadata": {},
   "outputs": [],
   "source": [
    "ldl_mask = labs_df[FIELD[\"TEST_NAME\"]].str.contains(\"ldl\", case=False, na=False) # "
   ]
  },
  {
   "cell_type": "code",
   "execution_count": null,
   "id": "3f97e221",
   "metadata": {},
   "outputs": [],
   "source": [
    "fasting_glucose = labs_df[glucose_mask]"
   ]
  },
  {
   "cell_type": "code",
   "execution_count": null,
   "id": "16053d69",
   "metadata": {},
   "outputs": [],
   "source": [
    "fasting_glucose[FIELD[\"TEST_NAME\"]].unique()"
   ]
  },
  {
   "cell_type": "code",
   "execution_count": null,
   "id": "50641bfa",
   "metadata": {},
   "outputs": [],
   "source": [
    "ldl = labs_df[ldl_mask]"
   ]
  },
  {
   "cell_type": "code",
   "execution_count": null,
   "id": "f4e4e65f",
   "metadata": {},
   "outputs": [],
   "source": [
    "ldl[FIELD[\"TEST_NAME\"]].unique()"
   ]
  },
  {
   "cell_type": "markdown",
   "id": "875a6694",
   "metadata": {},
   "source": [
    "# Lab test filtering"
   ]
  },
  {
   "cell_type": "code",
   "execution_count": null,
   "id": "4e6579ce",
   "metadata": {},
   "outputs": [],
   "source": [
    "glucose_mask = labs_df[FIELD[\"TEST_NAME\"]].str.contains(\"glucose\", case=False, na=False) & labs_df[FIELD[\"TEST_NAME\"]].str.contains(\"fasting\", case=False, na=False)\n",
    "other_tests_mask = labs_df[FIELD[\"TEST_NAME\"]].str.contains('HBA1C|TRIGLYCERIDES|LDL-CHOLESTEROL,CALCULATED|LDL-CHOLESTEROL,DIRECT', case=False, na=False)"
   ]
  },
  {
   "cell_type": "code",
   "execution_count": null,
   "id": "6919de67",
   "metadata": {},
   "outputs": [],
   "source": [
    "filtered_labs_df = labs_df\n",
    "filtered_labs_df['Lab Resulted Order Test Description'] = labs_df['Lab Resulted Order Test Description'].str.replace('GLUCOSE,PLASMA FASTING', 'GLUCOSE FASTING', case=False, regex=True)\n",
    "filtered_labs_df = filtered_labs_df[filtered_labs_df['Lab Resulted Order Test Description'].str.contains('HBA1C|TRIGLYCERIDES|LDL-CHOLESTEROL,CALCULATED|LDL-CHOLESTEROL,DIRECT|GLUCOSE FASTING', case=False, na=False)]"
   ]
  },
  {
   "cell_type": "code",
   "execution_count": null,
   "id": "1eddef28",
   "metadata": {},
   "outputs": [],
   "source": [
    "##converting all LDL labels to LAD-CHOLESTEROL\n",
    "filtered_labs_df['Lab Resulted Order Test Description'] = filtered_labs_df['Lab Resulted Order Test Description'].str.replace('LDL-CHOLESTEROL,CALCULATED|LDL-CHOLESTEROL,DIRECT', 'LDL-CHOLESTEROL', case=False,regex=True)\n",
    "filtered_labs_df"
   ]
  },
  {
   "cell_type": "code",
   "execution_count": null,
   "id": "5ce9bd37",
   "metadata": {},
   "outputs": [],
   "source": [
    "filtered_labs_df.to_csv(os.path.join(OUTPUT_DIR, \"filtered_labs.csv\"), index=False)"
   ]
  },
  {
   "cell_type": "code",
   "execution_count": null,
   "id": "6abcde75",
   "metadata": {},
   "outputs": [],
   "source": [
    "filtered_labs_df['Lab Resulted Order Test Description'].unique"
   ]
  },
  {
   "cell_type": "markdown",
   "id": "c9ecfff0",
   "metadata": {},
   "source": [
    "# Finalising HbA1C and Triglyceride data"
   ]
  },
  {
   "cell_type": "code",
   "execution_count": null,
   "id": "bbb17d36",
   "metadata": {},
   "outputs": [],
   "source": [
    "filtered_labs_df[FIELD[\"DATE\"]] = pd.to_datetime(filtered_labs_df[FIELD[\"DATE\"]])"
   ]
  },
  {
   "cell_type": "code",
   "execution_count": null,
   "id": "abb3d4e1",
   "metadata": {},
   "outputs": [],
   "source": [
    "filtered_labs_df = filtered_labs_df[~filtered_labs_df['Lab Resulted Order Test Description'].str.contains('TRIGLYCERIDES,FLUID | TRIGLYCERIDES,URINE', case=False, na=False)]"
   ]
  },
  {
   "cell_type": "code",
   "execution_count": null,
   "id": "9dea7767",
   "metadata": {},
   "outputs": [],
   "source": [
    "filtered_labs_df['Lab Resulted Order Test Description'].unique()"
   ]
  },
  {
   "cell_type": "markdown",
   "id": "f8697517",
   "metadata": {},
   "source": [
    "# Convert HbA1C IFCC values into percentage values"
   ]
  },
  {
   "cell_type": "code",
   "execution_count": null,
   "id": "da7936c6",
   "metadata": {},
   "outputs": [],
   "source": [
    "filtered_labs_df['Result Value']=pd.to_numeric(filtered_labs_df['Result Value'], errors='coerce')\n",
    "for index, value in filtered_labs_df['Lab Resulted Order Test Description'].items():\n",
    "    if value == 'HBA1C IFCC':\n",
    "        filtered_labs_df.at[index, 'Result Value'] = 0.09148* filtered_labs_df.at[index, 'Result Value']+ 2.152\n",
    "        filtered_labs_df.at[index, 'Lab Resulted Order Test Description'] = 'HBA1C'\n",
    "        \n",
    "filtered_labs_df"
   ]
  },
  {
   "cell_type": "code",
   "execution_count": null,
   "id": "8e05eeea",
   "metadata": {},
   "outputs": [],
   "source": [
    "dff = filtered_labs_df[filtered_labs_df['Lab Resulted Order Test Description']=='HBA1c, blood (dual reporting)']\n",
    "dff"
   ]
  },
  {
   "cell_type": "markdown",
   "id": "3e106692",
   "metadata": {},
   "source": [
    "# Drop rows with 'TRIGLYCERIDES,FLUID', 'TRIGLYCERIDES,URINE', 'HBA1c, blood (dual reporting)''"
   ]
  },
  {
   "cell_type": "code",
   "execution_count": null,
   "id": "417d2d75",
   "metadata": {},
   "outputs": [],
   "source": [
    "filtered_labs_df = filtered_labs_df[~filtered_labs_df['Lab Resulted Order Test Description'].isin (['TRIGLYCERIDES,FLUID' , 'TRIGLYCERIDES,URINE', 'HBA1c, blood (dual reporting)'])]\n",
    "filtered_labs_df"
   ]
  },
  {
   "cell_type": "markdown",
   "id": "870ccd1e",
   "metadata": {},
   "source": [
    "# Checking for Null values"
   ]
  },
  {
   "cell_type": "code",
   "execution_count": null,
   "id": "6d8380d2",
   "metadata": {},
   "outputs": [],
   "source": [
    "num_rows_with_nulls = filtered_labs_df[filtered_labs_df.isnull().any(axis=1)]\n",
    "num_rows_with_nulls"
   ]
  },
  {
   "cell_type": "code",
   "execution_count": null,
   "id": "6fc099db",
   "metadata": {},
   "outputs": [],
   "source": [
    "filtered_labs_df=filtered_labs_df.dropna()"
   ]
  },
  {
   "cell_type": "markdown",
   "id": "1b45c5f9",
   "metadata": {},
   "source": [
    "# Check and drop duplicate rows"
   ]
  },
  {
   "cell_type": "code",
   "execution_count": null,
   "id": "3434f2d8",
   "metadata": {},
   "outputs": [],
   "source": [
    "duplicates=filtered_labs_df[filtered_labs_df.duplicated()]\n",
    "duplicates"
   ]
  },
  {
   "cell_type": "code",
   "execution_count": null,
   "id": "7e62b5a8",
   "metadata": {},
   "outputs": [],
   "source": [
    "filtered_labs_df=filtered_labs_df.drop_duplicates()\n",
    "filtered_labs_df"
   ]
  },
  {
   "cell_type": "code",
   "execution_count": null,
   "id": "681d8cc6",
   "metadata": {},
   "outputs": [],
   "source": [
    "filtered_labs_df['Lab Resulted Order Test Description'].unique()"
   ]
  },
  {
   "cell_type": "code",
   "execution_count": null,
   "id": "13b96b6b",
   "metadata": {},
   "outputs": [],
   "source": [
    "filtered_labs_df['Lab Resulted Order Test Description'].value_counts()"
   ]
  },
  {
   "cell_type": "markdown",
   "id": "6e921223",
   "metadata": {},
   "source": [
    "# Final lab data Format"
   ]
  },
  {
   "cell_type": "code",
   "execution_count": null,
   "id": "0575ab2a",
   "metadata": {},
   "outputs": [],
   "source": [
    "filtered_labs_df['date_result'] = list(zip(filtered_labs_df['Specimen Received Date'], filtered_labs_df['Result Value']))\n",
    "\n",
    "grouped_df = filtered_labs_df.groupby(['Patient ID','Gender','Date of Birth','Lab Resulted Order Test Description'])['date_result'].agg(list)\n",
    "\n",
    "final_df = grouped_df.unstack('Lab Resulted Order Test Description').reset_index().rename_axis(None, axis=1)"
   ]
  },
  {
   "cell_type": "code",
   "execution_count": null,
   "id": "b956e971",
   "metadata": {},
   "outputs": [],
   "source": [
    "final_df"
   ]
  },
  {
   "cell_type": "markdown",
   "id": "f5fb20e8",
   "metadata": {},
   "source": [
    "# Check for Diabetes "
   ]
  },
  {
   "cell_type": "code",
   "execution_count": null,
   "id": "14e666bf",
   "metadata": {},
   "outputs": [],
   "source": [
    "def check_diabetic(result_list):\n",
    "        if not isinstance (result_list,list):\n",
    "            return 'Not Diabetic'\n",
    "        for date,value in result_list:\n",
    "            try:\n",
    "                if float(value) > 6.5:\n",
    "                    return 'diabetic', date\n",
    "            except:\n",
    "                continue\n",
    "        return 'Non-diabetic'\n",
    "    \n",
    "ddf['Diabetic_status', 'Diabetic_diagnosis_date'] = ddf['HbA1C'].apply(check_diabetic)\n",
    "ddf"
   ]
  },
  {
   "cell_type": "markdown",
   "id": "e12a933b",
   "metadata": {},
   "source": [
    "# Bringing into Final Format"
   ]
  },
  {
   "cell_type": "code",
   "execution_count": null,
   "id": "800f1209",
   "metadata": {},
   "outputs": [],
   "source": [
    "def unpack_tuples(data_list, idx):\n",
    "    if isinstance(data_list, list):\n",
    "        return [item[idx] for item in data_list]\n",
    "    return np.nan\n",
    "\n",
    "final_df['HbA1C_test_dates'] = final_df['HBA1C'].apply(lambda x: unpack_tuples(x,0))\n",
    "final_df['HbA1C_results'] = final_df['HBA1C'].apply(lambda x: unpack_tuples(x,1))\n",
    "\n",
    "final_df['LDL_test_dates'] = final_df['LDL-CHOLESTEROL'].apply(lambda x: unpack_tuples(x,0))\n",
    "final_df['LDL_results'] = final_df['LDL-CHOLESTEROL'].apply(lambda x: unpack_tuples(x,1))\n",
    "\n",
    "final_df['TG_test_dates'] = final_df['TRIGLYCERIDES'].apply(lambda x: unpack_tuples(x,0))\n",
    "final_df['TG_results'] = final_df['TRIGLYCERIDES'].apply(lambda x: unpack_tuples(x,1))\n",
    "\n",
    "final_df['FG_test_dates'] = final_df['GLUCOSE FASTING'].apply(lambda x: unpack_tuples(x,0))\n",
    "final_df['FG_results'] = final_df['GLUCOSE FASTING'].apply(lambda x: unpack_tuples(x,1))\n",
    "\n",
    "final_df"
   ]
  },
  {
   "cell_type": "code",
   "execution_count": null,
   "id": "82bbd350",
   "metadata": {},
   "outputs": [],
   "source": [
    "ddf = final_df.drop(columns=['GLUCOSE FASTING','HBA1C','LDL-CHOLESTEROL','TRIGLYCERIDES'])\n",
    "ddftests_results_available = {'HbA1C_results' : 'Num_HbA1C_results', 'FG_results' : 'Num_FG_results', 'LDL_results' : 'Num_LDL_results', 'TG_results' : 'Num_TG_results'}\n",
    "\n",
    "for test_col, count_col in tests_results_available.items():\n",
    "    ddf[count_col] = ddf[test_col].apply(lambda x: len(x) if isinstance(x, list) else 0)\n",
    "    \n",
    "ddf"
   ]
  },
  {
   "cell_type": "markdown",
   "id": "9754470f",
   "metadata": {},
   "source": [
    "tests_results_available = {'HbA1C_results' : 'Num_HbA1C_results', 'FG_results' : 'Num_FG_results', 'LDL_results' : 'Num_LDL_results', 'TG_results' : 'Num_TG_results'}\n",
    "\n",
    "for test_col, count_col in tests_results_available.items():\n",
    "    ddf[count_col] = ddf[test_col].apply(lambda x: len(x) if isinstance(x, list) else 0)\n",
    "    \n",
    "ddf"
   ]
  },
  {
   "cell_type": "markdown",
   "id": "e3d54867",
   "metadata": {},
   "source": [
    "# MERGING WITH CANCER DATA"
   ]
  },
  {
   "cell_type": "code",
   "execution_count": null,
   "id": "d9a5c9fc",
   "metadata": {},
   "outputs": [],
   "source": [
    "diag_data = pd.read_pickle('/home/jovyan/elpha-data/outputs/diagnosis(2).pkl')\n",
    "diag_data"
   ]
  },
  {
   "cell_type": "code",
   "execution_count": null,
   "id": "65dacbc7",
   "metadata": {},
   "outputs": [],
   "source": [
    "data_combined = pd.merge(ddf, diag_data[['Patient ID','Diagnosis Code (ICD10)', 'Diagnosis Date']], on='Patient ID', how='left')\n",
    "data_combined"
   ]
  },
  {
   "cell_type": "markdown",
   "id": "e710b8cc",
   "metadata": {},
   "source": [
    "# save as a pickle file as 'combined_data'|"
   ]
  },
  {
   "cell_type": "code",
   "execution_count": null,
   "id": "6832e35e",
   "metadata": {},
   "outputs": [],
   "source": [
    "data_path = os.path.join(OUTPUT_DIR, \"combined_data.pkl\")\n",
    "data_combined.to_pickle(data_path, )"
   ]
  },
  {
   "cell_type": "code",
   "execution_count": 4,
   "id": "30b8c26d",
   "metadata": {},
   "outputs": [],
   "source": [
    "def filter_before_diagnosis(results, diabetus_diagnosis_date, cancer_date):\n",
    "    if not isinstance(results, list) or pd.isna(diabetus_diagnosis_date):\n",
    "        return results\n",
    "    \n",
    "    if isinstance(diabetus_diagnosis_date, pd.Timestamp):\n",
    "        diabetus_diagnosis_date = diabetus_diagnosis_date.date()\n",
    "    if isinstance(cancer_date, pd.Timestamp):\n",
    "        cancer_date = cancer_date.date()\n",
    "        \n",
    "    filtered=[]\n",
    "    \n",
    "    for d,v in results:\n",
    "        try:\n",
    "            test_date = pd.to_datetime(d).date()\n",
    "            \n",
    "            if(pd.notna(diabetus_diagnosis_date) and test_date < diabetic_diagnosis_date):\n",
    "                continue\n",
    "            if (pd.notna(cancer_date) and test_date >= cancer_date - timedelta(days=365)):\n",
    "                continue\n",
    "            filtered.append((d,v))\n",
    "        except:\n",
    "            continue\n",
    "        \n",
    "    return filtered\n",
    "\n",
    "\n",
    "tests_cols = ['HBA1C_results', 'GLUCOSE FASTING_results', 'LDL-CHOLESTEROL_results', 'TRIGLYCERIDES_results']\n",
    "\n",
    "for col in tests_cols:\n",
    "    data_combined[col] = data_combined.apply(\n",
    "        lambda row: filter_before_diagnosis(row[col], row ['Diabetic_diagnosis_date'], row['Diagnosis Date']), axis=1)\n",
    "\n",
    "data_combined"
   ]
  },
  {
   "cell_type": "markdown",
   "id": "c8e49426",
   "metadata": {},
   "source": [
    "# count of available test results in the window period"
   ]
  },
  {
   "cell_type": "code",
   "execution_count": null,
   "id": "a2c7ede6",
   "metadata": {},
   "outputs": [],
   "source": [
    "tests_results_available = {'HBA1C_results' : 'Num_HBA1C_results', 'GLUCOSE FASTING_results' : 'Num_Fasting_glucode_results', 'LDL-CHOLESTEROL_results' : 'Num_LDL_results', 'TRIGLYCERIDES_results' : 'Num_TG_results'}\n",
    "\n",
    "for test_col, count_col in tests_results_available.items():\n",
    "    data_combined[count_col] = data_combined[test_col].apply(lambda x: len(x) if isinstance(x, list) else 0)\n",
    "    \n",
    "data_combined"
   ]
  },
  {
   "cell_type": "code",
   "execution_count": null,
   "id": "7264f827",
   "metadata": {},
   "outputs": [],
   "source": [
    "test=['Num_HBA1C_results','Num_Fasting_glucode_results','Num_LDL_results','Num_TG_results']\n",
    "for tests in test:\n",
    "    print(data_combined[tests].value_counts())"
   ]
  },
  {
   "cell_type": "code",
   "execution_count": null,
   "id": "f2a8a63e",
   "metadata": {},
   "outputs": [],
   "source": [
    "import matplotlib.pyplot as plt\n",
    "\n",
    "count_cols = ['Num_HBA1C_results', 'Num_Fasting_glucode_results', 'Num_LDL_results', 'Num_TG_results']\n",
    "labels = ['HbA1c', 'Fasting_Glucose', 'LDL', 'TG']\n",
    "\n",
    "'''data_combined[count_cols].plot(kind = 'bar' , figsize=(12,6), width=0.8)\n",
    "\n",
    "plt.title('Number of Tests per Patient')\n",
    "plt.xlabel('patient Index')\n",
    "plt.ylabel('Number of tests')\n",
    "\n",
    "plt.xticks(rotation=0)\n",
    "plt.legend(labels=labels)\n",
    "plt.tight_layout()\n",
    "\n",
    "plt.show()'''\n",
    "\n",
    "data_combined [count_cols].plot(kind='box', figsize=(8,6))\n",
    "plt.title('Distribution of test counts')\n",
    "plt.ylabel('Number of Tests')\n",
    "plt.xticks([1,2,3,4], labels)\n",
    "plt.grid(True)\n",
    "plt.show()"
   ]
  },
  {
   "cell_type": "markdown",
   "id": "274fc285",
   "metadata": {},
   "source": [
    "# Filtering data with atleast 1 value for each lab tests in the window period "
   ]
  },
  {
   "cell_type": "code",
   "execution_count": null,
   "id": "2298fc8e",
   "metadata": {},
   "outputs": [],
   "source": [
    "def has_high_num(num): \n",
    "    return (\n",
    "        num['Num_HBA1C_results'] >=1 and\n",
    "        num['Num_Fasting_glucode_results'] >= 1 and\n",
    "        num['Num_LDL_results'] >= 1 and\n",
    "        num['Num_TG_results'] >=1)\n",
    "high_num_row=pd.DataFrame()\n",
    "count_cols = ['Num_HBA1C_results', 'Num_Fasting_glucode_results', 'Num_LDL_results', 'Num_TG_results']\n",
    "labels = ['HBA1C_results', 'GLUCOSE FASTING_results', 'LDL-CHOLESTEROL_results', 'TRIGLYCERIDES_results']\n",
    "\n",
    "'''for i in range (0,len(count_cols),1):\n",
    "    high_num_rows = data_combined[data_combined[count_cols[i]].apply(has_high_num)]\n",
    "    print(high_num_rows[[count_cols[i], labels[i]] ])'''\n",
    "high_num_rows = data_combined[data_combined.apply(has_high_num, axis=1)]\n",
    "\n",
    "high_num_rows"
   ]
  }
 ],
 "metadata": {
  "kernelspec": {
   "display_name": "Python 3 (ipykernel)",
   "language": "python",
   "name": "python3"
  },
  "language_info": {
   "codemirror_mode": {
    "name": "ipython",
    "version": 3
   },
   "file_extension": ".py",
   "mimetype": "text/x-python",
   "name": "python",
   "nbconvert_exporter": "python",
   "pygments_lexer": "ipython3",
   "version": "3.10.6"
  }
 },
 "nbformat": 4,
 "nbformat_minor": 5
}
