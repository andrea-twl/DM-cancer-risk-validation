{
 "cells": [
  {
   "cell_type": "code",
   "execution_count": 12,
   "id": "dd67545e",
   "metadata": {},
   "outputs": [],
   "source": [
    "import pandas as pd\n",
    "import numpy as np\n",
    "from glob import glob\n",
    "import os\n",
    "\n",
    "HOME_DIR = \"/home/jovyan\"\n",
    "DATA_DIR = os.path.join(HOME_DIR, \"arc-sg/data\")\n",
    "OUTPUT_DIR = os.path.join(HOME_DIR, \"arc-sg/outputs\")"
   ]
  },
  {
   "cell_type": "markdown",
   "id": "1c5e32d4",
   "metadata": {},
   "source": [
    "## Collate 5 years of lab data\n",
    "Rerun as files are added in batches (space issues)"
   ]
  },
  {
   "cell_type": "code",
   "execution_count": 47,
   "id": "b34030de",
   "metadata": {},
   "outputs": [],
   "source": [
    "def aggregate_csvs(input_dir, curr_df = pd.DataFrame(), usecols=[]):\n",
    "    files = glob(input_dir)\n",
    "    df_list = []\n",
    "    df_list = [pd.read_csv(file, usecols=usecols) for file in files]\n",
    "    df_all  = pd.concat([curr_df, *df_list], ignore_index=True)\n",
    "    return df_all"
   ]
  },
  {
   "cell_type": "code",
   "execution_count": 45,
   "id": "8128e0f2",
   "metadata": {},
   "outputs": [],
   "source": [
    "input_dir = os.path.join(DATA_DIR, \"SGH 2015-2022\", \"*.csv\")\n",
    "usecols = ['Patient ID','Gender', 'Date of Birth','Specimen Received Date', 'Lab Resulted Order Test Description','Result Value' ]\n",
    "labs_df = pd.DataFrame()"
   ]
  },
  {
   "cell_type": "code",
   "execution_count": 62,
   "id": "4f6ab455",
   "metadata": {},
   "outputs": [],
   "source": [
    "labs_df = aggregate_csvs(os.path.join(DATA_DIR, \"SGH 2015-2022\", \"*.csv\"), labs_df, usecols)"
   ]
  },
  {
   "cell_type": "code",
   "execution_count": 64,
   "id": "345104de",
   "metadata": {},
   "outputs": [],
   "source": [
    "labs_path = os.path.join(OUTPUT_DIR, \"labs_2015-2022.pkl\")\n",
    "labs_df.to_pickle(labs_path)"
   ]
  },
  {
   "cell_type": "code",
   "execution_count": 65,
   "id": "e1ee776e",
   "metadata": {},
   "outputs": [
    {
     "data": {
      "text/html": [
       "<div>\n",
       "<style scoped>\n",
       "    .dataframe tbody tr th:only-of-type {\n",
       "        vertical-align: middle;\n",
       "    }\n",
       "\n",
       "    .dataframe tbody tr th {\n",
       "        vertical-align: top;\n",
       "    }\n",
       "\n",
       "    .dataframe thead th {\n",
       "        text-align: right;\n",
       "    }\n",
       "</style>\n",
       "<table border=\"1\" class=\"dataframe\">\n",
       "  <thead>\n",
       "    <tr style=\"text-align: right;\">\n",
       "      <th></th>\n",
       "      <th>Patient ID</th>\n",
       "      <th>Gender</th>\n",
       "      <th>Date of Birth</th>\n",
       "      <th>Specimen Received Date</th>\n",
       "      <th>Lab Resulted Order Test Description</th>\n",
       "      <th>Result Value</th>\n",
       "    </tr>\n",
       "  </thead>\n",
       "  <tbody>\n",
       "    <tr>\n",
       "      <th>0</th>\n",
       "      <td>7f7a4ad5417e81870f61</td>\n",
       "      <td>FEMALE</td>\n",
       "      <td>1948-05-01</td>\n",
       "      <td>2015-11-07</td>\n",
       "      <td>CA 19-9</td>\n",
       "      <td>120</td>\n",
       "    </tr>\n",
       "    <tr>\n",
       "      <th>1</th>\n",
       "      <td>7f7a4ad5417e81870f61</td>\n",
       "      <td>FEMALE</td>\n",
       "      <td>1948-05-01</td>\n",
       "      <td>2015-11-07</td>\n",
       "      <td>BICARBONATE</td>\n",
       "      <td>22.6</td>\n",
       "    </tr>\n",
       "    <tr>\n",
       "      <th>2</th>\n",
       "      <td>7f7a4ad5417e81870f61</td>\n",
       "      <td>FEMALE</td>\n",
       "      <td>1948-05-01</td>\n",
       "      <td>2015-11-07</td>\n",
       "      <td>CHLORIDE</td>\n",
       "      <td>101</td>\n",
       "    </tr>\n",
       "    <tr>\n",
       "      <th>3</th>\n",
       "      <td>7f7a4ad5417e81870f61</td>\n",
       "      <td>FEMALE</td>\n",
       "      <td>1948-05-01</td>\n",
       "      <td>2015-11-07</td>\n",
       "      <td>CREATININE</td>\n",
       "      <td>61</td>\n",
       "    </tr>\n",
       "    <tr>\n",
       "      <th>4</th>\n",
       "      <td>7f7a4ad5417e81870f61</td>\n",
       "      <td>FEMALE</td>\n",
       "      <td>1948-05-01</td>\n",
       "      <td>2015-11-07</td>\n",
       "      <td>GLUCOSE</td>\n",
       "      <td>7.6</td>\n",
       "    </tr>\n",
       "    <tr>\n",
       "      <th>...</th>\n",
       "      <td>...</td>\n",
       "      <td>...</td>\n",
       "      <td>...</td>\n",
       "      <td>...</td>\n",
       "      <td>...</td>\n",
       "      <td>...</td>\n",
       "    </tr>\n",
       "    <tr>\n",
       "      <th>42295993</th>\n",
       "      <td>7a8e18da55a32ca69917</td>\n",
       "      <td>FEMALE</td>\n",
       "      <td>1928-01-01</td>\n",
       "      <td>2022-09-30</td>\n",
       "      <td>GLUCOSE</td>\n",
       "      <td>8.4</td>\n",
       "    </tr>\n",
       "    <tr>\n",
       "      <th>42295994</th>\n",
       "      <td>7a8e18da55a32ca69917</td>\n",
       "      <td>FEMALE</td>\n",
       "      <td>1928-01-01</td>\n",
       "      <td>2022-09-30</td>\n",
       "      <td>POTASSIUM</td>\n",
       "      <td>4.0</td>\n",
       "    </tr>\n",
       "    <tr>\n",
       "      <th>42295995</th>\n",
       "      <td>7a8e18da55a32ca69917</td>\n",
       "      <td>FEMALE</td>\n",
       "      <td>1928-01-01</td>\n",
       "      <td>2022-09-30</td>\n",
       "      <td>SODIUM</td>\n",
       "      <td>130</td>\n",
       "    </tr>\n",
       "    <tr>\n",
       "      <th>42295996</th>\n",
       "      <td>7a8e18da55a32ca69917</td>\n",
       "      <td>FEMALE</td>\n",
       "      <td>1928-01-01</td>\n",
       "      <td>2022-09-30</td>\n",
       "      <td>UREA</td>\n",
       "      <td>9.9</td>\n",
       "    </tr>\n",
       "    <tr>\n",
       "      <th>42295997</th>\n",
       "      <td>7a8e18da55a32ca69917</td>\n",
       "      <td>FEMALE</td>\n",
       "      <td>1928-01-01</td>\n",
       "      <td>2022-09-30</td>\n",
       "      <td>GLUCOSE,POCT</td>\n",
       "      <td>5.6</td>\n",
       "    </tr>\n",
       "  </tbody>\n",
       "</table>\n",
       "<p>42295998 rows × 6 columns</p>\n",
       "</div>"
      ],
      "text/plain": [
       "                    Patient ID  Gender Date of Birth Specimen Received Date  \\\n",
       "0         7f7a4ad5417e81870f61  FEMALE    1948-05-01             2015-11-07   \n",
       "1         7f7a4ad5417e81870f61  FEMALE    1948-05-01             2015-11-07   \n",
       "2         7f7a4ad5417e81870f61  FEMALE    1948-05-01             2015-11-07   \n",
       "3         7f7a4ad5417e81870f61  FEMALE    1948-05-01             2015-11-07   \n",
       "4         7f7a4ad5417e81870f61  FEMALE    1948-05-01             2015-11-07   \n",
       "...                        ...     ...           ...                    ...   \n",
       "42295993  7a8e18da55a32ca69917  FEMALE    1928-01-01             2022-09-30   \n",
       "42295994  7a8e18da55a32ca69917  FEMALE    1928-01-01             2022-09-30   \n",
       "42295995  7a8e18da55a32ca69917  FEMALE    1928-01-01             2022-09-30   \n",
       "42295996  7a8e18da55a32ca69917  FEMALE    1928-01-01             2022-09-30   \n",
       "42295997  7a8e18da55a32ca69917  FEMALE    1928-01-01             2022-09-30   \n",
       "\n",
       "         Lab Resulted Order Test Description Result Value  \n",
       "0                                    CA 19-9          120  \n",
       "1                                BICARBONATE         22.6  \n",
       "2                                   CHLORIDE          101  \n",
       "3                                 CREATININE           61  \n",
       "4                                    GLUCOSE          7.6  \n",
       "...                                      ...          ...  \n",
       "42295993                             GLUCOSE          8.4  \n",
       "42295994                           POTASSIUM          4.0  \n",
       "42295995                              SODIUM          130  \n",
       "42295996                                UREA          9.9  \n",
       "42295997                        GLUCOSE,POCT          5.6  \n",
       "\n",
       "[42295998 rows x 6 columns]"
      ]
     },
     "execution_count": 65,
     "metadata": {},
     "output_type": "execute_result"
    }
   ],
   "source": [
    "labs_df"
   ]
  },
  {
   "cell_type": "markdown",
   "id": "2cb49b85",
   "metadata": {},
   "source": [
    "## Load and filter diagnosis data"
   ]
  },
  {
   "cell_type": "code",
   "execution_count": null,
   "id": "f4ac96b9",
   "metadata": {},
   "outputs": [],
   "source": [
    "diag_df = aggregate_csvs(os.path.join(HOME_DIR, \"elpha-data/diagnosis\", \"*.csv\"), labs_df, usecols)"
   ]
  }
 ],
 "metadata": {
  "kernelspec": {
   "display_name": "Python 3 (ipykernel)",
   "language": "python",
   "name": "python3"
  },
  "language_info": {
   "codemirror_mode": {
    "name": "ipython",
    "version": 3
   },
   "file_extension": ".py",
   "mimetype": "text/x-python",
   "name": "python",
   "nbconvert_exporter": "python",
   "pygments_lexer": "ipython3",
   "version": "3.10.6"
  }
 },
 "nbformat": 4,
 "nbformat_minor": 5
}
